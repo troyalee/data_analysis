{
 "cells": [
  {
   "cell_type": "markdown",
   "metadata": {},
   "source": [
    "# House Prices: Advanced Regression Techniques\n",
    "\n",
    "### Description of the dataset\n",
    "The data has been split into two groups:\n",
    "- training set (train.csv) : SalePrice(response variable) with 79 explanatory variables\n",
    "- test set (test.csv)\n",
    "\n",
    "For detailed data description, check https://www.kaggle.com/c/house-prices-advanced-regression-techniques/data\n",
    "\n",
    "### The Objective\n",
    "My goal is to predict the final price of each home using (almost) every aspect of residential homes in Ames, Iowa."
   ]
  },
  {
   "cell_type": "markdown",
   "metadata": {},
   "source": [
    "# Table of Contents\n",
    "### [1. Data Preparation for Modeling](#Data-Preparation-for-Modeling)\n",
    "- [Numerical Variables](#Numerical-Variables)\n",
    "    * [Check Skewness and Log1 Transformation](#Check-Skewness-and-Log1-Transformation)\n",
    "- [Categorical Variables](#Categorical-Variables)\n",
    "    * [Create Dummies for Categorical Variables](#Create-Dummies-for-Categorical-Variables)\n",
    "    * [Removing Levels with Few or No Observations](#Removing-Levels-with-Few-or-No-Observations)\n",
    "- [Response Variable](#Response-Variable)\n",
    "    * [Check Skewness and Log Transformation](#Check-Skewness-and-Log-Transformation)\n",
    "    \n",
    "### [2. Modeling](#Modeling)\n",
    "- [Lasso Regression Model](#Lasso-Regression-Model)\n",
    "    * [Parameter Tuning](#Parameter-Tuning)\n",
    "- [Random Forest](#Random-Forest)\n",
    "- [Averaging Two Models](#Averaging-Two-Models)"
   ]
  },
  {
   "cell_type": "code",
   "execution_count": 1,
   "metadata": {},
   "outputs": [],
   "source": [
    "%matplotlib inline  \n",
    "%config InlineBackend.figure_format='retina'\n",
    "\n",
    "# Ignore warnings\n",
    "import warnings\n",
    "warnings.filterwarnings('ignore')\n",
    "\n",
    "import numpy as np\n",
    "import pandas as pd\n",
    "import seaborn as sns; sns.set(style=\"ticks\", color_codes=True)\n",
    "import matplotlib.pyplot as plt\n",
    "plt.style.use('ggplot')"
   ]
  },
  {
   "cell_type": "code",
   "execution_count": 2,
   "metadata": {},
   "outputs": [],
   "source": [
    "# Import Dataset\n",
    "train_set = pd.read_csv('new_train.csv')\n",
    "test_set = pd.read_csv('new_test.csv')"
   ]
  },
  {
   "cell_type": "code",
   "execution_count": 3,
   "metadata": {},
   "outputs": [
    {
     "data": {
      "text/plain": [
       "((1460, 69), (1459, 68))"
      ]
     },
     "execution_count": 3,
     "metadata": {},
     "output_type": "execute_result"
    }
   ],
   "source": [
    "train_set.shape,test_set.shape"
   ]
  },
  {
   "cell_type": "code",
   "execution_count": 4,
   "metadata": {},
   "outputs": [],
   "source": [
    "# Save 'Id' column\n",
    "train_ID, test_ID = train_set['Id'], test_set['Id']\n",
    "\n",
    "# Dropping 'Id' colum since it's unnecessary at the moment\n",
    "train_set.drop(\"Id\", axis = 1, inplace = True)\n",
    "test_set.drop(\"Id\", axis = 1, inplace = True)"
   ]
  },
  {
   "cell_type": "code",
   "execution_count": 5,
   "metadata": {},
   "outputs": [
    {
     "name": "stdout",
     "output_type": "stream",
     "text": [
      "Dimension of combined dataset is (2919, 67)\n"
     ]
    }
   ],
   "source": [
    "ntrain = len(train_set)\n",
    "\n",
    "# store response variable\n",
    "y_train = train_set.SalePrice\n",
    "\n",
    "# combining training and testing dataset\n",
    "combined = pd.concat([train_set, test_set]).drop(['SalePrice'], axis=1).reset_index(drop=True)\n",
    "\n",
    "print('Dimension of combined dataset is {}'.format(combined.shape))"
   ]
  },
  {
   "cell_type": "markdown",
   "metadata": {},
   "source": [
    "As I mentioned in the previous notebook, `GrLivArea` and `TotalBsmtSF` are merely sums of other variables. But I am not sure if it is necessary to drop those yet. So, I will try in both ways and choose one with better performance. "
   ]
  },
  {
   "cell_type": "code",
   "execution_count": 6,
   "metadata": {},
   "outputs": [],
   "source": [
    "#combined.drop(['2ndFlrSF','LowQualFinSF'], axis = 1, inplace = True)\n",
    "#combined.drop(['BsmtFinSF1','BsmtUnfSF','BsmtFinSF2'], axis = 1, inplace = True)"
   ]
  },
  {
   "cell_type": "code",
   "execution_count": 7,
   "metadata": {},
   "outputs": [
    {
     "name": "stdout",
     "output_type": "stream",
     "text": [
      "There are 22 Categorical Variables\n",
      "There are 45 Numerical or Ordinal Variables\n"
     ]
    }
   ],
   "source": [
    "NumOrdVar, cateVar = [], []\n",
    "for i in combined.columns:\n",
    "    if combined.loc[:,i].dtype == 'object':\n",
    "        cateVar.append(i)\n",
    "    else:\n",
    "        NumOrdVar.append(i)\n",
    "\n",
    "print('There are {} Categorical Variables'.format(len(cateVar)))\n",
    "print('There are {} Numerical or Ordinal Variables'.format(len(NumOrdVar)))"
   ]
  },
  {
   "cell_type": "markdown",
   "metadata": {},
   "source": [
    "# Data Preparation for Modeling\n",
    "________\n",
    "## Numerical and Ordinal Variables\n",
    "### Check Skewness and Log1 Transformation"
   ]
  },
  {
   "cell_type": "code",
   "execution_count": 8,
   "metadata": {},
   "outputs": [],
   "source": [
    "for i in NumOrdVar:\n",
    "    if abs(combined.loc[:,i].skew()) > 1:\n",
    "        combined.loc[:, i] = combined.loc[:, i].apply(lambda x: np.log(x + 1))\n",
    "    \n",
    "NumOrdDf = combined[NumOrdVar]"
   ]
  },
  {
   "cell_type": "code",
   "execution_count": 9,
   "metadata": {},
   "outputs": [
    {
     "data": {
      "text/plain": [
       "(2919, 45)"
      ]
     },
     "execution_count": 9,
     "metadata": {},
     "output_type": "execute_result"
    }
   ],
   "source": [
    "NumOrdDf.shape"
   ]
  },
  {
   "cell_type": "markdown",
   "metadata": {},
   "source": [
    "## Categorical Variables\n",
    "________\n",
    "\n",
    "### Create Dummies for Categorical Variables"
   ]
  },
  {
   "cell_type": "code",
   "execution_count": 10,
   "metadata": {},
   "outputs": [],
   "source": [
    "def createDummies(data):\n",
    "    df = data\n",
    "    for i in cateVar:\n",
    "        dummy = pd.get_dummies(combined.loc[:,i], prefix = i, drop_first = True)\n",
    "        df = pd.concat([df, dummy], axis = 1)\n",
    "        df.drop(i, axis = 1, inplace = True)\n",
    "    return df"
   ]
  },
  {
   "cell_type": "code",
   "execution_count": 11,
   "metadata": {},
   "outputs": [],
   "source": [
    "cateDf = createDummies(combined[cateVar])"
   ]
  },
  {
   "cell_type": "code",
   "execution_count": 12,
   "metadata": {},
   "outputs": [
    {
     "data": {
      "text/plain": [
       "(2919, 123)"
      ]
     },
     "execution_count": 12,
     "metadata": {},
     "output_type": "execute_result"
    }
   ],
   "source": [
    "cateDf.shape"
   ]
  },
  {
   "cell_type": "markdown",
   "metadata": {},
   "source": [
    "### Removing Levels with Few or No Observations"
   ]
  },
  {
   "cell_type": "code",
   "execution_count": 13,
   "metadata": {},
   "outputs": [],
   "source": [
    "# Identify levels with few or no observations train set and drop\n",
    "fewNoObsVar_train = cateDf.columns[cateDf[:ntrain].apply(sum, axis = 0) < 10]\n",
    "cateDf.drop(fewNoObsVar_train, axis = 1, inplace = True)\n",
    "\n",
    "# Same thing for test set\n",
    "fewNoObsVar_test = cateDf.columns[cateDf[ntrain:].apply(sum, axis = 0) < 10]\n",
    "cateDf.drop(fewNoObsVar_test, axis = 1, inplace = True)"
   ]
  },
  {
   "cell_type": "code",
   "execution_count": 14,
   "metadata": {},
   "outputs": [
    {
     "data": {
      "text/plain": [
       "(2919, 74)"
      ]
     },
     "execution_count": 14,
     "metadata": {},
     "output_type": "execute_result"
    }
   ],
   "source": [
    "cateDf.shape"
   ]
  },
  {
   "cell_type": "code",
   "execution_count": 15,
   "metadata": {},
   "outputs": [
    {
     "data": {
      "text/plain": [
       "(2919, 119)"
      ]
     },
     "execution_count": 15,
     "metadata": {},
     "output_type": "execute_result"
    }
   ],
   "source": [
    "combined = pd.concat([NumOrdDf, cateDf], axis = 1)\n",
    "combined.shape"
   ]
  },
  {
   "cell_type": "markdown",
   "metadata": {},
   "source": [
    "## Response Variable\n",
    "________\n",
    "### Check Skewness and Log Transformation"
   ]
  },
  {
   "cell_type": "code",
   "execution_count": 16,
   "metadata": {},
   "outputs": [
    {
     "data": {
      "text/plain": [
       "1.8828757597682129"
      ]
     },
     "execution_count": 16,
     "metadata": {},
     "output_type": "execute_result"
    }
   ],
   "source": [
    "# check Skewness\n",
    "y_train.skew()"
   ]
  },
  {
   "cell_type": "code",
   "execution_count": 17,
   "metadata": {},
   "outputs": [],
   "source": [
    "# Log Transformation\n",
    "log_y_train = np.log(y_train)"
   ]
  },
  {
   "cell_type": "code",
   "execution_count": 18,
   "metadata": {},
   "outputs": [
    {
     "data": {
      "image/png": "[encoded data removed]",
      "text/plain": [
       "<matplotlib.figure.Figure at 0x1809664630>"
      ]
     },
     "metadata": {
      "image/png": {
       "height": 292,
       "width": 915
      }
     },
     "output_type": "display_data"
    }
   ],
   "source": [
    "fig, ax = plt.subplots(figsize = (15,4))\n",
    "\n",
    "plt.subplot(1,2,1)\n",
    "sns.distplot(y_train)\n",
    "plt.title('Before Log Transformation')\n",
    "plt.subplot(1,2,2)\n",
    "sns.distplot(log_y_train)\n",
    "plt.title('After Log Transformation')\n",
    "plt.show()"
   ]
  },
  {
   "cell_type": "markdown",
   "metadata": {},
   "source": [
    "### Recover Train and Test sets"
   ]
  },
  {
   "cell_type": "code",
   "execution_count": 19,
   "metadata": {},
   "outputs": [],
   "source": [
    "train_set = combined[:ntrain]\n",
    "train_set = pd.concat([train_set, log_y_train], axis = 1)\n",
    "        \n",
    "test_set = combined[ntrain:].reset_index(drop=True)"
   ]
  },
  {
   "cell_type": "markdown",
   "metadata": {},
   "source": [
    "# Modeling"
   ]
  },
  {
   "cell_type": "code",
   "execution_count": 20,
   "metadata": {},
   "outputs": [],
   "source": [
    "from sklearn.model_selection import train_test_split\n",
    "X, y = train_set.drop('SalePrice', axis = 1), train_set.SalePrice\n",
    "X_train, X_test, y_train, y_test = train_test_split(X, y, test_size = 0.25, random_state = 0)"
   ]
  },
  {
   "cell_type": "markdown",
   "metadata": {},
   "source": [
    "## Lasso Regression Model \n",
    "> RMSE = 0.12987"
   ]
  },
  {
   "cell_type": "code",
   "execution_count": 21,
   "metadata": {},
   "outputs": [
    {
     "data": {
      "text/plain": [
       "Lasso(alpha=1.0, copy_X=True, fit_intercept=True, max_iter=1000,\n",
       "   normalize=False, positive=False, precompute=False, random_state=None,\n",
       "   selection='cyclic', tol=0.0001, warm_start=False)"
      ]
     },
     "execution_count": 21,
     "metadata": {},
     "output_type": "execute_result"
    }
   ],
   "source": [
    "from sklearn.linear_model import Lasso, LassoCV\n",
    "from sklearn.metrics import mean_squared_error\n",
    "lasso = Lasso()\n",
    "lasso.fit(X_train, y_train)"
   ]
  },
  {
   "cell_type": "code",
   "execution_count": 22,
   "metadata": {},
   "outputs": [
    {
     "name": "stdout",
     "output_type": "stream",
     "text": [
      "RMSE of Lasso regression model on test set: 0.2769\n"
     ]
    }
   ],
   "source": [
    "y_pred = lasso.predict(X_test)\n",
    "rmse = np.sqrt(mean_squared_error(y_test, y_pred))\n",
    "print('RMSE of Lasso regression model on test set: {:.4f}'.format(rmse))"
   ]
  },
  {
   "cell_type": "markdown",
   "metadata": {},
   "source": [
    "### Parameter Tuning"
   ]
  },
  {
   "cell_type": "code",
   "execution_count": 23,
   "metadata": {},
   "outputs": [],
   "source": [
    "from sklearn.model_selection import GridSearchCV\n",
    "\n",
    "parameter_grid = [{'tol' : np.arange(0.001, 1, 0.001), 'alpha' : [0.001,0.01, 0.1, 1]}]\n",
    "\n",
    "grid_search = GridSearchCV(estimator = Lasso(), param_grid = parameter_grid, cv = 5, scoring = 'neg_mean_squared_error')"
   ]
  },
  {
   "cell_type": "code",
   "execution_count": 24,
   "metadata": {
    "scrolled": true
   },
   "outputs": [
    {
     "name": "stdout",
     "output_type": "stream",
     "text": [
      "Best score: 0.1185\n",
      "Test score: 0.1366\n",
      "Best parameters: {'tol': 0.044999999999999998, 'alpha': 0.001}\n"
     ]
    }
   ],
   "source": [
    "lasso = grid_search.fit(X_train, y_train)\n",
    "print('Best score: {:.4f}'.format(np.sqrt(-lasso.score(X_train, y_train))))\n",
    "print('Test score: {:.4f}'.format(np.sqrt(-lasso.score(X_test, y_test))))\n",
    "print('Best parameters: {}'.format(lasso.best_params_))"
   ]
  },
  {
   "cell_type": "code",
   "execution_count": 25,
   "metadata": {},
   "outputs": [],
   "source": [
    "SalePrice = pd.DataFrame(lasso.predict(test_set))\n",
    "submission = pd.concat([test_ID, np.exp(SalePrice)], axis = 1).rename(columns = {0 : 'SalePrice'})\n",
    "submission.to_csv('Submission(Lasso).csv', index = False)"
   ]
  },
  {
   "cell_type": "markdown",
   "metadata": {},
   "source": [
    "## Random Forest\n",
    "> RMSE = 0.14650"
   ]
  },
  {
   "cell_type": "code",
   "execution_count": 26,
   "metadata": {},
   "outputs": [
    {
     "data": {
      "text/plain": [
       "RandomForestRegressor(bootstrap=True, criterion='mse', max_depth=None,\n",
       "           max_features='auto', max_leaf_nodes=None,\n",
       "           min_impurity_decrease=0.0, min_impurity_split=None,\n",
       "           min_samples_leaf=1, min_samples_split=2,\n",
       "           min_weight_fraction_leaf=0.0, n_estimators=10, n_jobs=1,\n",
       "           oob_score=False, random_state=None, verbose=0, warm_start=False)"
      ]
     },
     "execution_count": 26,
     "metadata": {},
     "output_type": "execute_result"
    }
   ],
   "source": [
    "from sklearn.ensemble import RandomForestRegressor\n",
    "rf = RandomForestRegressor()\n",
    "rf.fit(X_train, y_train)"
   ]
  },
  {
   "cell_type": "code",
   "execution_count": 27,
   "metadata": {
    "scrolled": true
   },
   "outputs": [
    {
     "name": "stdout",
     "output_type": "stream",
     "text": [
      "RMSE of Lasso regression model on test set: 0.1432\n"
     ]
    }
   ],
   "source": [
    "y_pred = rf.predict(X_test)\n",
    "rmse = np.sqrt(mean_squared_error(y_test, y_pred))\n",
    "print('RMSE of Lasso regression model on test set: {:.4f}'.format(rmse))"
   ]
  },
  {
   "cell_type": "markdown",
   "metadata": {},
   "source": [
    "### Parameter Tuning"
   ]
  },
  {
   "cell_type": "code",
   "execution_count": 28,
   "metadata": {},
   "outputs": [],
   "source": [
    "from sklearn.model_selection import GridSearchCV\n",
    "parameter_grid = {\n",
    "                 'max_depth' : [4, 6, 8],\n",
    "                 'n_estimators': [500, 700],\n",
    "                 'max_features': ['sqrt', 'auto', 'log2'],\n",
    "                 'min_samples_leaf': [1, 3, 5],\n",
    "                 'bootstrap': [True, False],\n",
    "                 }\n",
    "\n",
    "grid_search = GridSearchCV(estimator = RandomForestRegressor(), param_grid= parameter_grid, scoring = 'neg_mean_squared_error')"
   ]
  },
  {
   "cell_type": "code",
   "execution_count": 29,
   "metadata": {},
   "outputs": [
    {
     "name": "stdout",
     "output_type": "stream",
     "text": [
      "Best score: 0.0760\n",
      "Test score: 0.1300\n",
      "Best parameters: {'bootstrap': True, 'max_depth': 8, 'max_features': 'auto', 'n_estimators': 700, 'min_samples_leaf': 1}\n"
     ]
    }
   ],
   "source": [
    "rf = grid_search.fit(X_train, y_train)\n",
    "print('Best score: {:.4f}'.format(np.sqrt(-rf.score(X_train, y_train))))\n",
    "print('Test score: {:.4f}'.format(np.sqrt(-rf.score(X_test, y_test))))\n",
    "print('Best parameters: {}'.format(rf.best_params_))"
   ]
  },
  {
   "cell_type": "code",
   "execution_count": 30,
   "metadata": {},
   "outputs": [],
   "source": [
    "SalePrice = pd.DataFrame(rf.predict(test_set))\n",
    "submission = pd.concat([test_ID, np.exp(SalePrice)], axis = 1).rename(columns = {0 : 'SalePrice'})\n",
    "submission.to_csv('Submission(RandomForest).csv', index = False)"
   ]
  },
  {
   "cell_type": "markdown",
   "metadata": {},
   "source": [
    "## Averaging Two Models\n",
    "> RMSE = 0.13202"
   ]
  },
  {
   "cell_type": "code",
   "execution_count": 31,
   "metadata": {},
   "outputs": [],
   "source": [
    "SalePrice = pd.DataFrame((0.2*np.exp(rf.predict(test_set)) + 0.8*np.exp(lasso.predict(test_set)))/2)\n",
    "submission = pd.concat([test_ID, SalePrice], axis = 1).rename(columns = {0 : 'SalePrice'})\n",
    "submission.to_csv('Submission(mix).csv', index = False)"
   ]
  }
 ],
 "metadata": {
  "kernelspec": {
   "display_name": "Python 3",
   "language": "python",
   "name": "python3"
  },
  "language_info": {
   "codemirror_mode": {
    "name": "ipython",
    "version": 3
   },
   "file_extension": ".py",
   "mimetype": "text/x-python",
   "name": "python",
   "nbconvert_exporter": "python",
   "pygments_lexer": "ipython3",
   "version": "3.5.2"
  }
 },
 "nbformat": 4,
 "nbformat_minor": 2
}
