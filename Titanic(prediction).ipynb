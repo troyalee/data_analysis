{
 "cells": [
  {
   "cell_type": "markdown",
   "metadata": {},
   "source": [
    "## Titanic Project\n",
    "'Titanic: Machine Learning from Disaster' is the first thing you will see in the kaggle competition. This dataset is also widely used as an introductory example for machine learning online courses. <br><br> For those who are interested in doing by themselves, the dataset could be easily found here: https://www.kaggle.com/c/titanic/data"
   ]
  },
  {
   "cell_type": "markdown",
   "metadata": {},
   "source": [
    "Let's take a look at the data description.\n",
    "### Description of the dataset\n",
    "The data has been split into two groups:\n",
    "- training set (train.csv)\n",
    "- test set (test.csv)\n",
    "\n",
    "#### Variable Table\n",
    "| Variable |                 Definition                 |                       Key                      |\n",
    "|:--------:|:------------------------------------------:|:----------------------------------------------:|\n",
    "| survival |                  Survival                  |                 0 = No, 1 = Yes                |\n",
    "|  pclass  |                Ticket class                |            1 = 1st, 2 = 2nd, 3 = 3rd           |\n",
    "|    sex   |                     Sex                    |                                                |\n",
    "|    age   |                Age in years                |                                                |\n",
    "|   sibsp  | # of siblings / spouses aboard the Titanic |                                                |\n",
    "|   parch  | # of parents / children aboard the Titanic |                                                |\n",
    "|  ticket  |                Ticket number               |                                                |\n",
    "|   fare   |               Passenger fare               |                                                |\n",
    "|   cabin  |                Cabin number                |                                                |\n",
    "| embarked |             Port of Embarkation            | C = Cherbourg, Q = Queenstown, S = Southampton |\n",
    "\n",
    "#### Variable Notes\n",
    "\n",
    ">pclass: Levels for socio-economic status\n",
    ">> 1st = Upper<br>\n",
    ">> 2nd = Middle<br>\n",
    ">> 3rd = Lower\n",
    "\n",
    ">age: Age is fractional if less than 1\n",
    "\n",
    ">sibsp: The dataset defines family relations as <br>\n",
    ">>Sibling = brother, sister, stepbrother, stepsister<br>\n",
    ">>Spouse = husband, wife (mistresses and fiancés were ignored)\n",
    "\n",
    ">parch: The dataset defines family relations as <br>\n",
    ">>Parent = mother, father <br>\n",
    ">>Child = daughter, son, stepdaughter, stepson<br>\n",
    ">> * Some children travelled only with a nanny, therefore parch=0 for them."
   ]
  },
  {
   "cell_type": "markdown",
   "metadata": {},
   "source": [
    "### The Objective\n",
    "We are tasked to analyze what sorts of people were likely to survive and to predict which passengers survived the tragedy applying the tools of machine learning."
   ]
  },
  {
   "cell_type": "code",
   "execution_count": 5,
   "metadata": {},
   "outputs": [],
   "source": [
    "%matplotlib inline  \n",
    "%config InlineBackend.figure_format='retina'\n",
    "\n",
    "# Ignore warnings\n",
    "import warnings\n",
    "warnings.filterwarnings('ignore')\n",
    "\n",
    "import numpy as np\n",
    "import pandas as pd\n",
    "import seaborn as sns; sns.set(style=\"ticks\", color_codes=True)\n",
    "import matplotlib.pyplot as plt\n",
    "plt.style.use('ggplot')"
   ]
  },
  {
   "cell_type": "code",
   "execution_count": 6,
   "metadata": {},
   "outputs": [],
   "source": [
    "train_set = pd.read_csv('new_train.csv')\n",
    "test_set = pd.read_csv('new_test.csv')\n",
    "dataset = [train_set, test_set]"
   ]
  },
  {
   "cell_type": "code",
   "execution_count": 7,
   "metadata": {},
   "outputs": [],
   "source": [
    "passengerId = test_set.PassengerId\n",
    "for data in dataset:\n",
    "    data.drop(['FareGroup','PassengerId'], axis = 1, inplace = True)\n",
    "    \n",
    "test_set.drop(['Survived'], axis = 1, inplace = True)"
   ]
  },
  {
   "cell_type": "code",
   "execution_count": 8,
   "metadata": {
    "scrolled": false
   },
   "outputs": [
    {
     "data": {
      "text/html": [
       "<div>\n",
       "<style scoped>\n",
       "    .dataframe tbody tr th:only-of-type {\n",
       "        vertical-align: middle;\n",
       "    }\n",
       "\n",
       "    .dataframe tbody tr th {\n",
       "        vertical-align: top;\n",
       "    }\n",
       "\n",
       "    .dataframe thead th {\n",
       "        text-align: right;\n",
       "    }\n",
       "</style>\n",
       "<table border=\"1\" class=\"dataframe\">\n",
       "  <thead>\n",
       "    <tr style=\"text-align: right;\">\n",
       "      <th></th>\n",
       "      <th>Embarked</th>\n",
       "      <th>Fare</th>\n",
       "      <th>Pclass</th>\n",
       "      <th>Sex</th>\n",
       "      <th>Survived</th>\n",
       "      <th>Title</th>\n",
       "      <th>Count</th>\n",
       "      <th>AgeGroup</th>\n",
       "      <th>GroupSize</th>\n",
       "    </tr>\n",
       "  </thead>\n",
       "  <tbody>\n",
       "    <tr>\n",
       "      <th>0</th>\n",
       "      <td>S</td>\n",
       "      <td>7.25000</td>\n",
       "      <td>3</td>\n",
       "      <td>male</td>\n",
       "      <td>0.0</td>\n",
       "      <td>Mr</td>\n",
       "      <td>1</td>\n",
       "      <td>Adult</td>\n",
       "      <td>2</td>\n",
       "    </tr>\n",
       "    <tr>\n",
       "      <th>1</th>\n",
       "      <td>C</td>\n",
       "      <td>35.64165</td>\n",
       "      <td>1</td>\n",
       "      <td>female</td>\n",
       "      <td>1.0</td>\n",
       "      <td>Mrs</td>\n",
       "      <td>2</td>\n",
       "      <td>Adult</td>\n",
       "      <td>2</td>\n",
       "    </tr>\n",
       "    <tr>\n",
       "      <th>2</th>\n",
       "      <td>S</td>\n",
       "      <td>7.92500</td>\n",
       "      <td>3</td>\n",
       "      <td>female</td>\n",
       "      <td>1.0</td>\n",
       "      <td>Miss</td>\n",
       "      <td>1</td>\n",
       "      <td>Adult</td>\n",
       "      <td>1</td>\n",
       "    </tr>\n",
       "    <tr>\n",
       "      <th>3</th>\n",
       "      <td>S</td>\n",
       "      <td>26.55000</td>\n",
       "      <td>1</td>\n",
       "      <td>female</td>\n",
       "      <td>1.0</td>\n",
       "      <td>Mrs</td>\n",
       "      <td>2</td>\n",
       "      <td>Adult</td>\n",
       "      <td>2</td>\n",
       "    </tr>\n",
       "    <tr>\n",
       "      <th>4</th>\n",
       "      <td>S</td>\n",
       "      <td>8.05000</td>\n",
       "      <td>3</td>\n",
       "      <td>male</td>\n",
       "      <td>0.0</td>\n",
       "      <td>Mr</td>\n",
       "      <td>1</td>\n",
       "      <td>Adult</td>\n",
       "      <td>1</td>\n",
       "    </tr>\n",
       "  </tbody>\n",
       "</table>\n",
       "</div>"
      ],
      "text/plain": [
       "  Embarked      Fare  Pclass     Sex  Survived Title  Count AgeGroup  \\\n",
       "0        S   7.25000       3    male       0.0    Mr      1    Adult   \n",
       "1        C  35.64165       1  female       1.0   Mrs      2    Adult   \n",
       "2        S   7.92500       3  female       1.0  Miss      1    Adult   \n",
       "3        S  26.55000       1  female       1.0   Mrs      2    Adult   \n",
       "4        S   8.05000       3    male       0.0    Mr      1    Adult   \n",
       "\n",
       "   GroupSize  \n",
       "0          2  \n",
       "1          2  \n",
       "2          1  \n",
       "3          2  \n",
       "4          1  "
      ]
     },
     "execution_count": 8,
     "metadata": {},
     "output_type": "execute_result"
    }
   ],
   "source": [
    "train_set.head()"
   ]
  },
  {
   "cell_type": "code",
   "execution_count": 9,
   "metadata": {},
   "outputs": [],
   "source": [
    "# Create Dummy Variables, Add to full, and Remove Original Ones\n",
    "def create_dummies(data) :\n",
    "    df = data\n",
    "    global df\n",
    "    sex = pd.get_dummies(df.Sex , prefix = 'Sex_')\n",
    "    embarked = pd.get_dummies(df.Embarked , prefix= 'Embarked_' )\n",
    "    title = pd.get_dummies(df.Title , prefix= 'Title_' )\n",
    "#    groupSize = pd.get_dummies(df.GroupSize, prefix = 'GroupSize_')\n",
    "    ageGroup = pd.get_dummies(df.AgeGroup, prefix = 'AgeGroup_')\n",
    "    pclass = pd.get_dummies(df.Pclass, prefix = 'Pclass')\n",
    "\n",
    "    df = pd.concat([df, sex, embarked, title, pclass, ageGroup], axis = 1)\n",
    "    df.drop(['Sex','Embarked','Title','Pclass', 'AgeGroup'], axis = 1, inplace = True)\n",
    "    return df\n",
    "\n",
    "train = create_dummies(train_set)\n",
    "test = create_dummies(test_set)"
   ]
  },
  {
   "cell_type": "markdown",
   "metadata": {},
   "source": [
    "### Logistic Regression (Score = 0.77990)"
   ]
  },
  {
   "cell_type": "code",
   "execution_count": 10,
   "metadata": {},
   "outputs": [],
   "source": [
    "# Splitting the dataset into the Training set and Test set\n",
    "from sklearn.model_selection import train_test_split\n",
    "X, y = train.drop('Survived', axis = 1), train.Survived\n",
    "X_train, X_test, y_train, y_test = train_test_split(X, y, test_size = 0.3, random_state = 0)"
   ]
  },
  {
   "cell_type": "code",
   "execution_count": 11,
   "metadata": {},
   "outputs": [
    {
     "name": "stdout",
     "output_type": "stream",
     "text": [
      "Accuracy of logistic regression classifier on test set: 0.825\n"
     ]
    }
   ],
   "source": [
    "from sklearn.linear_model import LogisticRegression\n",
    "# Train Logistic Regression\n",
    "logitModel = LogisticRegression()\n",
    "logitModel.fit(X_train, y_train)\n",
    "\n",
    "# Prediction\n",
    "y_pred = logitModel.predict(X_test)\n",
    "print('Accuracy of logistic regression classifier on test set: {:.3f}'.format(logitModel.score(X_test, y_test)))"
   ]
  },
  {
   "cell_type": "markdown",
   "metadata": {},
   "source": [
    "#### Parameter Tuning"
   ]
  },
  {
   "cell_type": "code",
   "execution_count": 12,
   "metadata": {
    "scrolled": true
   },
   "outputs": [
    {
     "name": "stdout",
     "output_type": "stream",
     "text": [
      "Best Logistic regression classifier on test set with ridge penalty: 0.825(C = 0.001)\n",
      "Best Logistic regression classifier on test set with lasso penalty: 0.825(C = 0.001)\n"
     ]
    }
   ],
   "source": [
    "tol = [0.001, 0.01, 0.1, 1, 10, 100]\n",
    "lassoScore, ridgeScore = [], []\n",
    "\n",
    "for i in range(len(tol)):\n",
    "    logitModel = LogisticRegression(penalty= 'l1', tol = tol[i])\n",
    "    logitModel.fit(X_train, y_train)\n",
    "    ridgeScore.append(logitModel.score(X_test, y_test))\n",
    "    \n",
    "    logitModel = LogisticRegression(penalty= 'l2', tol = tol[i])\n",
    "    logitModel.fit(X_train, y_train)\n",
    "    lassoScore.append(logitModel.score(X_test, y_test))\n",
    "\n",
    "print('Best Logistic regression classifier on test set with ridge penalty: {:.3f}(C = {})'.format(max(ridgeScore), tol[ridgeScore.index(max(ridgeScore))]))\n",
    "print('Best Logistic regression classifier on test set with lasso penalty: {:.3f}(C = {})'.format(max(lassoScore), tol[lassoScore.index(max(lassoScore))]))"
   ]
  },
  {
   "cell_type": "code",
   "execution_count": 13,
   "metadata": {},
   "outputs": [],
   "source": [
    "logitModel = LogisticRegression(penalty= 'l2', tol = 0.001)\n",
    "logitModel.fit(X_train, y_train)\n",
    "Survived = pd.DataFrame(logitModel.predict(test).astype(int))"
   ]
  },
  {
   "cell_type": "code",
   "execution_count": 14,
   "metadata": {},
   "outputs": [],
   "source": [
    "submission = pd.concat([passengerId, Survived], axis = 1)\n",
    "submission.to_csv('Submission(logit).csv', index = False)"
   ]
  },
  {
   "cell_type": "markdown",
   "metadata": {},
   "source": [
    "### RandomForest (Score = 0.78468)"
   ]
  },
  {
   "cell_type": "code",
   "execution_count": 15,
   "metadata": {},
   "outputs": [
    {
     "data": {
      "text/plain": [
       "0.79477611940298509"
      ]
     },
     "execution_count": 15,
     "metadata": {},
     "output_type": "execute_result"
    }
   ],
   "source": [
    "from sklearn.ensemble import RandomForestClassifier\n",
    "clf_rf = RandomForestClassifier()\n",
    "clf_rf.fit(X_train, y_train)\n",
    "clf_rf.score(X_test, y_test)"
   ]
  },
  {
   "cell_type": "code",
   "execution_count": 16,
   "metadata": {},
   "outputs": [
    {
     "data": {
      "text/plain": [
       "<matplotlib.axes._subplots.AxesSubplot at 0x1a10c652b0>"
      ]
     },
     "execution_count": 16,
     "metadata": {},
     "output_type": "execute_result"
    },
    {
     "data": {
      "image/png": "[encoded data removed]",
      "text/plain": [
       "<matplotlib.figure.Figure at 0x1a10c44c18>"
      ]
     },
     "metadata": {
      "image/png": {
       "height": 276,
       "width": 503
      }
     },
     "output_type": "display_data"
    }
   ],
   "source": [
    "impvar = pd.DataFrame()\n",
    "impvar['Features'], impvar['Importance'] = X_train.columns.values, clf_rf.feature_importances_\n",
    "impvar.sort_values(by = 'Importance', ascending = False, inplace = True)\n",
    "sns.barplot(x = 'Importance', y = 'Features', data = impvar, orient = \"h\")"
   ]
  },
  {
   "cell_type": "code",
   "execution_count": null,
   "metadata": {},
   "outputs": [],
   "source": [
    "from sklearn.feature_selection import SelectFromModel\n",
    "reduced = SelectFromModel(clf_rf, prefit=True)\n",
    "X_train_reduced, X_test_reduced = reduced.transform(X_train), reduced.transform(X_test)\n",
    "test_reduced = reduced.transform(test)\n",
    "\n",
    "clf_rf.reduced = RandomForestClassifier()\n",
    "clf_rf.reduced.fit(X_train_reduced, y_train)\n",
    "clf_rf.reduced.score(X_test_reduced, y_test)"
   ]
  },
  {
   "cell_type": "markdown",
   "metadata": {},
   "source": [
    "#### Parameter Tuning"
   ]
  },
  {
   "cell_type": "code",
   "execution_count": 17,
   "metadata": {},
   "outputs": [
    {
     "ename": "NameError",
     "evalue": "name 'GridSearchCV' is not defined",
     "output_type": "error",
     "traceback": [
      "\u001b[0;31m---------------------------------------------------------------------------\u001b[0m",
      "\u001b[0;31mNameError\u001b[0m                                 Traceback (most recent call last)",
      "\u001b[0;32m<ipython-input-17-20afc5d20e1d>\u001b[0m in \u001b[0;36m<module>\u001b[0;34m()\u001b[0m\n\u001b[1;32m      8\u001b[0m                  }\n\u001b[1;32m      9\u001b[0m \u001b[0;34m\u001b[0m\u001b[0m\n\u001b[0;32m---> 10\u001b[0;31m \u001b[0mgrid_search\u001b[0m \u001b[0;34m=\u001b[0m \u001b[0mGridSearchCV\u001b[0m\u001b[0;34m(\u001b[0m\u001b[0mclf_rf\u001b[0m\u001b[0;34m,\u001b[0m \u001b[0mparam_grid\u001b[0m\u001b[0;34m=\u001b[0m \u001b[0mparameter_grid\u001b[0m\u001b[0;34m,\u001b[0m \u001b[0mscoring\u001b[0m \u001b[0;34m=\u001b[0m \u001b[0;34m'accuracy'\u001b[0m\u001b[0;34m)\u001b[0m\u001b[0;34m\u001b[0m\u001b[0m\n\u001b[0m",
      "\u001b[0;31mNameError\u001b[0m: name 'GridSearchCV' is not defined"
     ]
    }
   ],
   "source": [
    "parameter_grid = {\n",
    "                 'max_depth' : [4, 6, 8],\n",
    "                 'n_estimators': [250, 375, 500],\n",
    "                 'max_features': ['sqrt', 'auto', 'log2'],\n",
    "                 'min_samples_leaf': [1, 3, 5],\n",
    "                 'bootstrap': [True, False],\n",
    "                 \"criterion\": [\"gini\", \"entropy\"]\n",
    "                 }\n",
    "\n",
    "grid_search = GridSearchCV(clf_rf, param_grid= parameter_grid, scoring = 'accuracy')"
   ]
  },
  {
   "cell_type": "code",
   "execution_count": 170,
   "metadata": {},
   "outputs": [
    {
     "name": "stdout",
     "output_type": "stream",
     "text": [
      "Best score: 0.8250401284109149\n",
      "Test score: 0.8134328358208955\n",
      "Best parameters: {'max_depth': 4, 'min_samples_leaf': 3, 'n_estimators': 375, 'criterion': 'gini', 'max_features': 'auto', 'bootstrap': False}\n"
     ]
    }
   ],
   "source": [
    "grid_search.fit(X_train, y_train)\n",
    "print('Best score: {}'.format(grid_search.best_score_))\n",
    "print('Test score: {}'.format(grid_search.score(X_test, y_test)))\n",
    "print('Best parameters: {}'.format(grid_search.best_params_))"
   ]
  },
  {
   "cell_type": "code",
   "execution_count": 171,
   "metadata": {},
   "outputs": [
    {
     "data": {
      "text/plain": [
       "RandomForestClassifier(bootstrap=False, class_weight=None, criterion='gini',\n",
       "            max_depth=4, max_features='auto', max_leaf_nodes=None,\n",
       "            min_impurity_decrease=0.0, min_impurity_split=None,\n",
       "            min_samples_leaf=3, min_samples_split=2,\n",
       "            min_weight_fraction_leaf=0.0, n_estimators=375, n_jobs=1,\n",
       "            oob_score=False, random_state=None, verbose=0,\n",
       "            warm_start=False)"
      ]
     },
     "execution_count": 171,
     "metadata": {},
     "output_type": "execute_result"
    }
   ],
   "source": [
    "clf_rf = RandomForestClassifier(**grid_search.best_params_)\n",
    "clf_rf.fit(X_train, y_train)"
   ]
  },
  {
   "cell_type": "code",
   "execution_count": 177,
   "metadata": {},
   "outputs": [],
   "source": [
    "Survived = pd.DataFrame(clf_rf.predict(test).astype(int))\n",
    "submission = pd.concat([passengerId, Survived], axis = 1).rename(columns = {0 : 'Survived'})\n",
    "submission.to_csv('Submission(RandomForest).csv', index = False)"
   ]
  },
  {
   "cell_type": "markdown",
   "metadata": {},
   "source": [
    "### Support Vector Machine (SVM)"
   ]
  },
  {
   "cell_type": "code",
   "execution_count": 179,
   "metadata": {},
   "outputs": [],
   "source": [
    "# Feature Scaling\n",
    "# working with reduced data (via randomforest)\n",
    "from sklearn.preprocessing import StandardScaler\n",
    "sc = StandardScaler()\n",
    "X_train_svm, X_test_svm = sc.fit_transform(X_train), sc.transform(X_test)\n",
    "test_svm = sc.fit_transform(test)"
   ]
  },
  {
   "cell_type": "code",
   "execution_count": 180,
   "metadata": {},
   "outputs": [],
   "source": [
    "from sklearn.svm import SVC\n",
    "clf_svm = SVC()\n",
    "parameter_grid = [\n",
    "#{'C' : [0.01, 0.1, 1, 10, 100], 'kernel' : ['linear']},\n",
    "                 {'C' : [0.01, 0.1, 1, 10, 100], 'kernel' : ['rbf'], 'gamma' : [0.5, 0.1, 0.01, 0.001]},\n",
    "                 {'C' : [0.01, 0.1, 1, 10, 100], 'kernel' : ['poly'], 'gamma' : [0.5, 0.1, 0.01, 0.001], 'degree' : [1,2,3]}]\n",
    "\n",
    "grid_search = GridSearchCV(estimator = clf_svm, param_grid = parameter_grid, scoring = 'accuracy')"
   ]
  },
  {
   "cell_type": "code",
   "execution_count": null,
   "metadata": {},
   "outputs": [],
   "source": [
    "clf_svm = grid_search.fit(X_train_svm, y_train)\n",
    "print('Best score: {}'.format(clf_svm.grid_scores_))\n",
    "print('Test score: {}'.format(clf_svm.score(X_test_svm, y_test)))\n",
    "print('Best parameters: {}'.format(clf_svm.best_params_))"
   ]
  },
  {
   "cell_type": "code",
   "execution_count": null,
   "metadata": {},
   "outputs": [],
   "source": [
    "clf_svm = SVC(**clf_svm.best_params_)\n",
    "clf_svm.fit(X_train_svm, y_train)"
   ]
  },
  {
   "cell_type": "code",
   "execution_count": null,
   "metadata": {},
   "outputs": [],
   "source": [
    "Survived = pd.DataFrame(clf_svm.predict(test_svm).astype(int))\n",
    "submission = pd.concat([passengerId, Survived], axis = 1).rename(columns = {0 : 'Survived'})\n",
    "submission.to_csv('Submission(SVM).csv', index = False)"
   ]
  }
 ],
 "metadata": {
  "anaconda-cloud": {},
  "kernelspec": {
   "display_name": "Python 3",
   "language": "python",
   "name": "python3"
  },
  "language_info": {
   "codemirror_mode": {
    "name": "ipython",
    "version": 3
   },
   "file_extension": ".py",
   "mimetype": "text/x-python",
   "name": "python",
   "nbconvert_exporter": "python",
   "pygments_lexer": "ipython3",
   "version": "3.5.2"
  }
 },
 "nbformat": 4,
 "nbformat_minor": 2
}
