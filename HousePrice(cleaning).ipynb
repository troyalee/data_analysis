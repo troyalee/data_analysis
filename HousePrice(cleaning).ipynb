{
 "cells": [
  {
   "cell_type": "markdown",
   "metadata": {},
   "source": [
    "# House Prices: Advanced Regression Techniques\n",
    "\n",
    "### Description of the dataset\n",
    "The data has been split into two groups:\n",
    "- training set (train.csv) : SalePrice(response variable) with 79 explanatory variables\n",
    "- test set (test.csv)\n",
    "\n",
    "For detailed data description, check https://www.kaggle.com/c/house-prices-advanced-regression-techniques/data\n",
    "\n",
    "### The Objective\n",
    "My goal is to predict the final price of each home using (almost) every aspect of residential homes in Ames, Iowa."
   ]
  },
  {
   "cell_type": "code",
   "execution_count": 1,
   "metadata": {},
   "outputs": [],
   "source": [
    "%matplotlib inline  \n",
    "%config InlineBackend.figure_format='retina'\n",
    "\n",
    "# Ignore warnings\n",
    "import warnings\n",
    "warnings.filterwarnings('ignore')\n",
    "\n",
    "import numpy as np\n",
    "import pandas as pd\n",
    "import seaborn as sns; sns.set(style=\"ticks\", color_codes=True)\n",
    "import matplotlib.pyplot as plt\n",
    "plt.style.use('ggplot')"
   ]
  },
  {
   "cell_type": "code",
   "execution_count": 2,
   "metadata": {},
   "outputs": [],
   "source": [
    "# Import Dataset\n",
    "train_set = pd.read_csv('train.csv')\n",
    "test_set = pd.read_csv('test.csv')"
   ]
  },
  {
   "cell_type": "code",
   "execution_count": 3,
   "metadata": {},
   "outputs": [
    {
     "data": {
      "text/plain": [
       "((1460, 81), (1459, 80))"
      ]
     },
     "execution_count": 3,
     "metadata": {},
     "output_type": "execute_result"
    }
   ],
   "source": [
    "train_set.shape, test_set.shape"
   ]
  },
  {
   "cell_type": "code",
   "execution_count": 4,
   "metadata": {},
   "outputs": [],
   "source": [
    "# Save 'Id' column\n",
    "train_ID = train_set['Id']\n",
    "test_ID = test_set['Id']\n",
    "\n",
    "# Dropping 'Id' colum since it's unnecessary at the moment\n",
    "train_set.drop(\"Id\", axis = 1, inplace = True)\n",
    "test_set.drop(\"Id\", axis = 1, inplace = True)"
   ]
  },
  {
   "cell_type": "code",
   "execution_count": 5,
   "metadata": {
    "scrolled": false
   },
   "outputs": [
    {
     "data": {
      "text/html": [
       "<div>\n",
       "<style scoped>\n",
       "    .dataframe tbody tr th:only-of-type {\n",
       "        vertical-align: middle;\n",
       "    }\n",
       "\n",
       "    .dataframe tbody tr th {\n",
       "        vertical-align: top;\n",
       "    }\n",
       "\n",
       "    .dataframe thead th {\n",
       "        text-align: right;\n",
       "    }\n",
       "</style>\n",
       "<table border=\"1\" class=\"dataframe\">\n",
       "  <thead>\n",
       "    <tr style=\"text-align: right;\">\n",
       "      <th></th>\n",
       "      <th>MSSubClass</th>\n",
       "      <th>MSZoning</th>\n",
       "      <th>LotFrontage</th>\n",
       "      <th>LotArea</th>\n",
       "      <th>Street</th>\n",
       "      <th>Alley</th>\n",
       "      <th>LotShape</th>\n",
       "      <th>LandContour</th>\n",
       "      <th>Utilities</th>\n",
       "      <th>LotConfig</th>\n",
       "      <th>...</th>\n",
       "      <th>PoolArea</th>\n",
       "      <th>PoolQC</th>\n",
       "      <th>Fence</th>\n",
       "      <th>MiscFeature</th>\n",
       "      <th>MiscVal</th>\n",
       "      <th>MoSold</th>\n",
       "      <th>YrSold</th>\n",
       "      <th>SaleType</th>\n",
       "      <th>SaleCondition</th>\n",
       "      <th>SalePrice</th>\n",
       "    </tr>\n",
       "  </thead>\n",
       "  <tbody>\n",
       "    <tr>\n",
       "      <th>0</th>\n",
       "      <td>60</td>\n",
       "      <td>RL</td>\n",
       "      <td>65.0</td>\n",
       "      <td>8450</td>\n",
       "      <td>Pave</td>\n",
       "      <td>NaN</td>\n",
       "      <td>Reg</td>\n",
       "      <td>Lvl</td>\n",
       "      <td>AllPub</td>\n",
       "      <td>Inside</td>\n",
       "      <td>...</td>\n",
       "      <td>0</td>\n",
       "      <td>NaN</td>\n",
       "      <td>NaN</td>\n",
       "      <td>NaN</td>\n",
       "      <td>0</td>\n",
       "      <td>2</td>\n",
       "      <td>2008</td>\n",
       "      <td>WD</td>\n",
       "      <td>Normal</td>\n",
       "      <td>208500</td>\n",
       "    </tr>\n",
       "    <tr>\n",
       "      <th>1</th>\n",
       "      <td>20</td>\n",
       "      <td>RL</td>\n",
       "      <td>80.0</td>\n",
       "      <td>9600</td>\n",
       "      <td>Pave</td>\n",
       "      <td>NaN</td>\n",
       "      <td>Reg</td>\n",
       "      <td>Lvl</td>\n",
       "      <td>AllPub</td>\n",
       "      <td>FR2</td>\n",
       "      <td>...</td>\n",
       "      <td>0</td>\n",
       "      <td>NaN</td>\n",
       "      <td>NaN</td>\n",
       "      <td>NaN</td>\n",
       "      <td>0</td>\n",
       "      <td>5</td>\n",
       "      <td>2007</td>\n",
       "      <td>WD</td>\n",
       "      <td>Normal</td>\n",
       "      <td>181500</td>\n",
       "    </tr>\n",
       "    <tr>\n",
       "      <th>2</th>\n",
       "      <td>60</td>\n",
       "      <td>RL</td>\n",
       "      <td>68.0</td>\n",
       "      <td>11250</td>\n",
       "      <td>Pave</td>\n",
       "      <td>NaN</td>\n",
       "      <td>IR1</td>\n",
       "      <td>Lvl</td>\n",
       "      <td>AllPub</td>\n",
       "      <td>Inside</td>\n",
       "      <td>...</td>\n",
       "      <td>0</td>\n",
       "      <td>NaN</td>\n",
       "      <td>NaN</td>\n",
       "      <td>NaN</td>\n",
       "      <td>0</td>\n",
       "      <td>9</td>\n",
       "      <td>2008</td>\n",
       "      <td>WD</td>\n",
       "      <td>Normal</td>\n",
       "      <td>223500</td>\n",
       "    </tr>\n",
       "  </tbody>\n",
       "</table>\n",
       "<p>3 rows × 80 columns</p>\n",
       "</div>"
      ],
      "text/plain": [
       "   MSSubClass MSZoning  LotFrontage  LotArea Street Alley LotShape  \\\n",
       "0          60       RL         65.0     8450   Pave   NaN      Reg   \n",
       "1          20       RL         80.0     9600   Pave   NaN      Reg   \n",
       "2          60       RL         68.0    11250   Pave   NaN      IR1   \n",
       "\n",
       "  LandContour Utilities LotConfig    ...     PoolArea PoolQC Fence  \\\n",
       "0         Lvl    AllPub    Inside    ...            0    NaN   NaN   \n",
       "1         Lvl    AllPub       FR2    ...            0    NaN   NaN   \n",
       "2         Lvl    AllPub    Inside    ...            0    NaN   NaN   \n",
       "\n",
       "  MiscFeature MiscVal MoSold  YrSold  SaleType  SaleCondition  SalePrice  \n",
       "0         NaN       0      2    2008        WD         Normal     208500  \n",
       "1         NaN       0      5    2007        WD         Normal     181500  \n",
       "2         NaN       0      9    2008        WD         Normal     223500  \n",
       "\n",
       "[3 rows x 80 columns]"
      ]
     },
     "execution_count": 5,
     "metadata": {},
     "output_type": "execute_result"
    }
   ],
   "source": [
    "train_set.head(3)"
   ]
  },
  {
   "cell_type": "code",
   "execution_count": 6,
   "metadata": {},
   "outputs": [
    {
     "name": "stdout",
     "output_type": "stream",
     "text": [
      "Dimension of combined dataset is (2919, 79)\n"
     ]
    }
   ],
   "source": [
    "ntrain, ntest = len(train_set), len(test_set)\n",
    "# store response variable\n",
    "y_train = train_set.SalePrice\n",
    "\n",
    "# combining training and testing dataset\n",
    "combined = pd.concat([train_set, test_set]).drop(['SalePrice'], axis=1).reset_index(drop=True)\n",
    "\n",
    "print('Dimension of combined dataset is {}'.format(combined.shape))"
   ]
  },
  {
   "cell_type": "markdown",
   "metadata": {},
   "source": [
    "## Missing Values"
   ]
  },
  {
   "cell_type": "code",
   "execution_count": 7,
   "metadata": {},
   "outputs": [],
   "source": [
    "def countNA(vector):\n",
    "    count = 0\n",
    "    for i in vector:\n",
    "        if combined[i].isnull().sum() > 0:\n",
    "            print(i, 'has', combined[i].isnull().sum(), 'missing values', '|', combined[i].dtype)\n",
    "            count += 1\n",
    "    if count == 0:\n",
    "        print('There is no more missing values')"
   ]
  },
  {
   "cell_type": "code",
   "execution_count": 8,
   "metadata": {
    "scrolled": false
   },
   "outputs": [
    {
     "data": {
      "image/png": "[encoded data removed]",
      "text/plain": [
       "<matplotlib.figure.Figure at 0x1a0ad805c0>"
      ]
     },
     "metadata": {
      "image/png": {
       "height": 569,
       "width": 1073
      }
     },
     "output_type": "display_data"
    }
   ],
   "source": [
    "def Nullpc(df):    \n",
    "    NAs = (df.isnull().sum() / len(combined)) * 100\n",
    "    NAs = NAs.drop(NAs[NAs == 0].index).sort_values(ascending=False)\n",
    "    missing_data = pd.DataFrame({'NullRatio' : NAs}).T\n",
    "\n",
    "    f, ax = plt.subplots(figsize=(15, 8))\n",
    "    sns.barplot(x=NAs, y=NAs.index, orient='h')\n",
    "    plt.xlabel('Features', fontsize=15)\n",
    "    plt.ylabel('Null Percentage', fontsize=15)\n",
    "    plt.title('Percent missing data by feature', fontsize=15)\n",
    "    plt.tight_layout()\n",
    "    \n",
    "Nullpc(combined)"
   ]
  },
  {
   "cell_type": "markdown",
   "metadata": {},
   "source": [
    "A lot of variables have missing values simply because of how they are recorded. For instance, PoolQC, a variable with the largest null percentage, is recorded NA if a certain house does not have a pool. Analogously, variables related to basement, garage, and miscellaneous feature are recorded as NA if a house does not have those features. Hence, NAs in those features will be replaced as 'None' for the further analysis. I will note that if some NAs does not indicate 'None' and make appropriate transformation."
   ]
  },
  {
   "cell_type": "markdown",
   "metadata": {},
   "source": [
    "### PoolQC and PoolArea\n",
    "**PoolQC** is the variable with most number of NAs. According to the data description, NA indicates 'no pool' for a house.<br>\n",
    ">  Ex:   Excellent <br> Gd:   Good <br> TA:   Average/Typical <br> Fa:   Fair <br> NA:   No Pool\n",
    "\n",
    "So, I will fill in those NAs with 'None'."
   ]
  },
  {
   "cell_type": "code",
   "execution_count": 9,
   "metadata": {},
   "outputs": [],
   "source": [
    "combined.PoolQC.fillna('None', inplace = True)"
   ]
  },
  {
   "cell_type": "markdown",
   "metadata": {},
   "source": [
    "**PoolArea** is a variable related to **PoolQC**. <br>\n",
    "There might be NAs in PoolQC that does not mean 'no pool'. I will find those instances and assign different value to it. Since there is not much information regarding pool, I will refer to `OverallQual`ity of the house to estimate `PoolQC`. <br>\n",
    "* `OverallQual` is scored from 1 to 10 and `PoolQC` is scored 0 to 4. "
   ]
  },
  {
   "cell_type": "code",
   "execution_count": 10,
   "metadata": {},
   "outputs": [
    {
     "data": {
      "text/html": [
       "<div>\n",
       "<style scoped>\n",
       "    .dataframe tbody tr th:only-of-type {\n",
       "        vertical-align: middle;\n",
       "    }\n",
       "\n",
       "    .dataframe tbody tr th {\n",
       "        vertical-align: top;\n",
       "    }\n",
       "\n",
       "    .dataframe thead th {\n",
       "        text-align: right;\n",
       "    }\n",
       "</style>\n",
       "<table border=\"1\" class=\"dataframe\">\n",
       "  <thead>\n",
       "    <tr style=\"text-align: right;\">\n",
       "      <th></th>\n",
       "      <th>PoolQC</th>\n",
       "      <th>PoolArea</th>\n",
       "      <th>OverallQual</th>\n",
       "    </tr>\n",
       "  </thead>\n",
       "  <tbody>\n",
       "  </tbody>\n",
       "</table>\n",
       "</div>"
      ],
      "text/plain": [
       "Empty DataFrame\n",
       "Columns: [PoolQC, PoolArea, OverallQual]\n",
       "Index: []"
      ]
     },
     "execution_count": 10,
     "metadata": {},
     "output_type": "execute_result"
    }
   ],
   "source": [
    "combined[(combined.PoolQC == 0) & combined.PoolArea != 0].loc[:,['PoolQC', 'PoolArea', 'OverallQual']]"
   ]
  },
  {
   "cell_type": "code",
   "execution_count": 11,
   "metadata": {},
   "outputs": [],
   "source": [
    "combined.loc[2599, 'PoolQC'] = 2"
   ]
  },
  {
   "cell_type": "markdown",
   "metadata": {},
   "source": [
    "### Miscellaneous Features\n",
    "* **MiscFeature** is a variable with second most number of NAs. According to the data description, NA indicates 'None' for a house.<br>\n",
    "> Elev: Elevator\n",
    "  Gar2: 2nd Garage (if not described in garage section)\n",
    "  Othr: Other\n",
    "  Shed: Shed (over 100 SF)\n",
    "  TenC: Tennis Court\n",
    "  NA:   None\n",
    "  \n",
    "Let's fill in those NAs with 'None'."
   ]
  },
  {
   "cell_type": "code",
   "execution_count": 12,
   "metadata": {},
   "outputs": [],
   "source": [
    "combined.MiscFeature.fillna('None', inplace = True)"
   ]
  },
  {
   "cell_type": "markdown",
   "metadata": {},
   "source": [
    "### Alley\n",
    "* **Alley**.\n",
    ">  **Grvl** : Gravel <br>\n",
    "   **Pave** : Paved <br>\n",
    "   **NA** :   No alley access\n",
    "   \n",
    "I will fill NAs with 'None'"
   ]
  },
  {
   "cell_type": "code",
   "execution_count": 13,
   "metadata": {},
   "outputs": [],
   "source": [
    "combined.Alley.fillna('None', inplace = True)"
   ]
  },
  {
   "cell_type": "markdown",
   "metadata": {},
   "source": [
    "### Fence\n",
    "* **Fence**\n",
    "> **GdPrv** :    Good Privacy <br>\n",
    "  **MnPrv** :    Minimum Privacy <br>\n",
    "  **GdWo** : Good Wood <br>\n",
    "  **MnWw** : Minimum Wood/Wire <br>\n",
    "  **NA** :   No Fence\n",
    "\n",
    "I will fill those NAs with 'None'."
   ]
  },
  {
   "cell_type": "code",
   "execution_count": 14,
   "metadata": {},
   "outputs": [],
   "source": [
    "combined.Fence.fillna('None', inplace = True)"
   ]
  },
  {
   "cell_type": "code",
   "execution_count": 15,
   "metadata": {
    "scrolled": false
   },
   "outputs": [
    {
     "data": {
      "image/png": "[encoded data removed]",
      "text/plain": [
       "<matplotlib.figure.Figure at 0x1a0b12a2e8>"
      ]
     },
     "metadata": {
      "image/png": {
       "height": 281,
       "width": 1073
      }
     },
     "output_type": "display_data"
    }
   ],
   "source": [
    "plt.subplots(figsize=(15, 4))\n",
    "sns.barplot('Fence', y_train, data = combined, ci = False)\n",
    "plt.xlabel('Fence', fontsize=12)\n",
    "plt.ylabel('Sales Price', fontsize=12)\n",
    "plt.title('Sales Price by Fence Composition', fontsize=17)\n",
    "plt.tight_layout()"
   ]
  },
  {
   "cell_type": "markdown",
   "metadata": {},
   "source": [
    "### FireplaceQu\n",
    "* **FireplaceQu** \n",
    ">  **Ex**   Excellent - Exceptional Masonry Fireplace <br>\n",
    "   **Gd**   Good - Masonry Fireplace in main level<br>\n",
    "   **TA**   Average - Prefabricated Fireplace in main living area or Masonry Fireplace in basement<br>\n",
    "   **Fa**   Fair - Prefabricated Fireplace in basement<br>\n",
    "   **Po**   Poor - Ben Franklin Stove<br>\n",
    "   **NA**   No Fireplace\n",
    "   \n",
    "If the number of `Fireplaces` in the house is zero, `FireplaceQu` has to be NA, vice versa. After checking that, it is safe to fill NAs with 'None'."
   ]
  },
  {
   "cell_type": "code",
   "execution_count": 16,
   "metadata": {},
   "outputs": [
    {
     "data": {
      "text/html": [
       "<div>\n",
       "<style scoped>\n",
       "    .dataframe tbody tr th:only-of-type {\n",
       "        vertical-align: middle;\n",
       "    }\n",
       "\n",
       "    .dataframe tbody tr th {\n",
       "        vertical-align: top;\n",
       "    }\n",
       "\n",
       "    .dataframe thead th {\n",
       "        text-align: right;\n",
       "    }\n",
       "</style>\n",
       "<table border=\"1\" class=\"dataframe\">\n",
       "  <thead>\n",
       "    <tr style=\"text-align: right;\">\n",
       "      <th></th>\n",
       "      <th>FireplaceQu</th>\n",
       "      <th>Fireplaces</th>\n",
       "    </tr>\n",
       "  </thead>\n",
       "  <tbody>\n",
       "  </tbody>\n",
       "</table>\n",
       "</div>"
      ],
      "text/plain": [
       "Empty DataFrame\n",
       "Columns: [FireplaceQu, Fireplaces]\n",
       "Index: []"
      ]
     },
     "execution_count": 16,
     "metadata": {},
     "output_type": "execute_result"
    }
   ],
   "source": [
    "combined[(combined.FireplaceQu.isnull()) & (combined.Fireplaces != 0)].loc[:,['FireplaceQu','Fireplaces']]"
   ]
  },
  {
   "cell_type": "code",
   "execution_count": 17,
   "metadata": {},
   "outputs": [
    {
     "data": {
      "text/html": [
       "<div>\n",
       "<style scoped>\n",
       "    .dataframe tbody tr th:only-of-type {\n",
       "        vertical-align: middle;\n",
       "    }\n",
       "\n",
       "    .dataframe tbody tr th {\n",
       "        vertical-align: top;\n",
       "    }\n",
       "\n",
       "    .dataframe thead th {\n",
       "        text-align: right;\n",
       "    }\n",
       "</style>\n",
       "<table border=\"1\" class=\"dataframe\">\n",
       "  <thead>\n",
       "    <tr style=\"text-align: right;\">\n",
       "      <th></th>\n",
       "      <th>FireplaceQu</th>\n",
       "      <th>Fireplaces</th>\n",
       "    </tr>\n",
       "  </thead>\n",
       "  <tbody>\n",
       "  </tbody>\n",
       "</table>\n",
       "</div>"
      ],
      "text/plain": [
       "Empty DataFrame\n",
       "Columns: [FireplaceQu, Fireplaces]\n",
       "Index: []"
      ]
     },
     "execution_count": 17,
     "metadata": {},
     "output_type": "execute_result"
    }
   ],
   "source": [
    "combined[(combined.FireplaceQu.notnull()) & (combined.Fireplaces == 0)].loc[:,['FireplaceQu','Fireplaces']]"
   ]
  },
  {
   "cell_type": "code",
   "execution_count": 18,
   "metadata": {},
   "outputs": [],
   "source": [
    "combined.FireplaceQu.fillna('None', inplace = True)"
   ]
  },
  {
   "cell_type": "markdown",
   "metadata": {},
   "source": [
    "### Parking Lot Related Variables ( LotFrontage, LotShape, LotConfig )\n",
    "* **LotFrontage**\n",
    "Since `LotFrontage` is likely to vary across different neighborhoods, I will fill in NAs with Average `LotFrontage` by Neighborhood."
   ]
  },
  {
   "cell_type": "code",
   "execution_count": 19,
   "metadata": {},
   "outputs": [
    {
     "data": {
      "image/png": "[encoded data removed]",
      "text/plain": [
       "<matplotlib.figure.Figure at 0x1a0b1332e8>"
      ]
     },
     "metadata": {
      "image/png": {
       "height": 425,
       "width": 1073
      }
     },
     "output_type": "display_data"
    }
   ],
   "source": [
    "plt.subplots(figsize=(15, 6))\n",
    "sns.barplot('LotFrontage', 'Neighborhood', data = combined, ci = False)\n",
    "plt.xlabel('LotFrontage', fontsize=12)\n",
    "plt.ylabel('Sales Price', fontsize=12)\n",
    "plt.title('LotFrontage by Neighborhood', fontsize=15)\n",
    "plt.tight_layout()"
   ]
  },
  {
   "cell_type": "code",
   "execution_count": 20,
   "metadata": {},
   "outputs": [],
   "source": [
    "combined[\"LotFrontage\"] = combined.groupby(\"Neighborhood\")[\"LotFrontage\"].transform(lambda x: x.fillna(x.median()))"
   ]
  },
  {
   "cell_type": "markdown",
   "metadata": {},
   "source": [
    "* **LotShape**: 0 Missing value.\n",
    "> **Reg** : Regular <br>\n",
    "   **IR1** : Slightly irregular <br>\n",
    "   **IR2** : Moderately Irregular <br>\n",
    "   **IR3** : Irregular\n",
    "   \n",
    "* **LotConfig** : 0 Missing value.\n",
    ">  **Inside** : Inside lot <br>\n",
    "   **Corner** : Corner lot <br>\n",
    "   **CulDSac** : Cul-de-sac <br>\n",
    "   **FR2** : Frontage on 2 sides of property <br>\n",
    "   **FR3** : Frontage on 3 sides of property"
   ]
  },
  {
   "cell_type": "code",
   "execution_count": 21,
   "metadata": {},
   "outputs": [
    {
     "name": "stdout",
     "output_type": "stream",
     "text": [
      "There is no more missing values\n"
     ]
    }
   ],
   "source": [
    "countNA(['LotShape', 'LotConfig'])"
   ]
  },
  {
   "cell_type": "markdown",
   "metadata": {},
   "source": [
    "### Garage Related Variables \n",
    "\n",
    "There are 7 garage related variable; **GarageArea, GarageCars, GarageCond, GarageFinish, GarageQual, GarageType, GarageYrBlt**"
   ]
  },
  {
   "cell_type": "code",
   "execution_count": 22,
   "metadata": {
    "scrolled": false
   },
   "outputs": [
    {
     "name": "stdout",
     "output_type": "stream",
     "text": [
      "GarageArea has 1 missing values | float64\n",
      "GarageCars has 1 missing values | float64\n",
      "GarageCond has 159 missing values | object\n",
      "GarageFinish has 159 missing values | object\n",
      "GarageQual has 159 missing values | object\n",
      "GarageType has 157 missing values | object\n",
      "GarageYrBlt has 159 missing values | float64\n"
     ]
    }
   ],
   "source": [
    "garageVar = ['GarageArea', 'GarageCars', 'GarageCond', 'GarageFinish', 'GarageQual', 'GarageType', 'GarageYrBlt']\n",
    "countNA(garageVar)"
   ]
  },
  {
   "cell_type": "markdown",
   "metadata": {},
   "source": [
    "* Categorical Variables : **GarageType, GarageFinish, GarageQual, GarageCond** <br>\n",
    "* Continuous Variables : **GarageArea, GarageCars** <br>\n",
    "\n",
    "(**GarageYrBlt** has integer but is actually a categorical variable. I will check if data are stored as object.) <br>\n",
    "\n",
    "For categorical variables, NAs indicates 'None'. There are 157 NAs in `GarageType` while other categorical variables have 159. First, let's confirm that the NAs in the three variables are pointing to the same observations and then find two NAs that doesn't acutally mean 'None'."
   ]
  },
  {
   "cell_type": "code",
   "execution_count": 23,
   "metadata": {},
   "outputs": [
    {
     "data": {
      "text/plain": [
       "159"
      ]
     },
     "execution_count": 23,
     "metadata": {},
     "output_type": "execute_result"
    }
   ],
   "source": [
    "len(combined[(combined['GarageFinish'].isnull()) & (combined['GarageQual'].isnull()) & (combined['GarageCond'].isnull())])"
   ]
  },
  {
   "cell_type": "code",
   "execution_count": 24,
   "metadata": {},
   "outputs": [
    {
     "data": {
      "text/html": [
       "<div>\n",
       "<style scoped>\n",
       "    .dataframe tbody tr th:only-of-type {\n",
       "        vertical-align: middle;\n",
       "    }\n",
       "\n",
       "    .dataframe tbody tr th {\n",
       "        vertical-align: top;\n",
       "    }\n",
       "\n",
       "    .dataframe thead th {\n",
       "        text-align: right;\n",
       "    }\n",
       "</style>\n",
       "<table border=\"1\" class=\"dataframe\">\n",
       "  <thead>\n",
       "    <tr style=\"text-align: right;\">\n",
       "      <th></th>\n",
       "      <th>GarageArea</th>\n",
       "      <th>GarageCars</th>\n",
       "      <th>GarageCond</th>\n",
       "      <th>GarageFinish</th>\n",
       "      <th>GarageQual</th>\n",
       "      <th>GarageType</th>\n",
       "      <th>GarageYrBlt</th>\n",
       "    </tr>\n",
       "  </thead>\n",
       "  <tbody>\n",
       "    <tr>\n",
       "      <th>2126</th>\n",
       "      <td>360.0</td>\n",
       "      <td>1.0</td>\n",
       "      <td>NaN</td>\n",
       "      <td>NaN</td>\n",
       "      <td>NaN</td>\n",
       "      <td>Detchd</td>\n",
       "      <td>NaN</td>\n",
       "    </tr>\n",
       "    <tr>\n",
       "      <th>2576</th>\n",
       "      <td>NaN</td>\n",
       "      <td>NaN</td>\n",
       "      <td>NaN</td>\n",
       "      <td>NaN</td>\n",
       "      <td>NaN</td>\n",
       "      <td>Detchd</td>\n",
       "      <td>NaN</td>\n",
       "    </tr>\n",
       "  </tbody>\n",
       "</table>\n",
       "</div>"
      ],
      "text/plain": [
       "      GarageArea  GarageCars GarageCond GarageFinish GarageQual GarageType  \\\n",
       "2126       360.0         1.0        NaN          NaN        NaN     Detchd   \n",
       "2576         NaN         NaN        NaN          NaN        NaN     Detchd   \n",
       "\n",
       "      GarageYrBlt  \n",
       "2126          NaN  \n",
       "2576          NaN  "
      ]
     },
     "execution_count": 24,
     "metadata": {},
     "output_type": "execute_result"
    }
   ],
   "source": [
    "combined[(combined['GarageType'].notnull()) & combined['GarageFinish'].isnull()].loc[:,garageVar]"
   ]
  },
  {
   "cell_type": "markdown",
   "metadata": {},
   "source": [
    "First row above shows that NAs does not mean 'No Garage'. So, I will change those missing values with the most frequent values in each variables. However, it is more probable to assume 'No Garage' for the second observation since all of the variable except `GarageType` are NAs. So, for second observation, I will assign zeros for `GarageArea`, `GarageCars` and NA to `GarageType`. Then I convert all the NAs of garage related categorical variables to 'None'."
   ]
  },
  {
   "cell_type": "code",
   "execution_count": 25,
   "metadata": {},
   "outputs": [],
   "source": [
    "garageVar = ['GarageType', 'GarageFinish', 'GarageQual', 'GarageCond']\n",
    "combined.GarageType[2576] = np.NaN\n",
    "combined.loc[2576,['GarageArea','GarageCars']] = 0\n",
    "\n",
    "for var in garageVar:\n",
    "    combined.loc[2126, var] = combined[var].mode()[0]\n",
    "    combined[var].fillna('None', inplace = True)"
   ]
  },
  {
   "cell_type": "code",
   "execution_count": 26,
   "metadata": {},
   "outputs": [
    {
     "name": "stdout",
     "output_type": "stream",
     "text": [
      "GarageType : ['Attchd' 'Detchd' 'BuiltIn' 'CarPort' 'None' 'Basment' '2Types']\n",
      "GarageFinish : ['RFn' 'Unf' 'Fin' 'None']\n",
      "GarageQual : ['TA' 'Fa' 'Gd' 'None' 'Ex' 'Po']\n",
      "GarageCond : ['TA' 'Fa' 'None' 'Gd' 'Po' 'Ex']\n"
     ]
    }
   ],
   "source": [
    "for var in garageVar:\n",
    "    print(var, ':',combined[var].unique())"
   ]
  },
  {
   "cell_type": "markdown",
   "metadata": {},
   "source": [
    "* **GarageYrBlt**"
   ]
  },
  {
   "cell_type": "code",
   "execution_count": 27,
   "metadata": {},
   "outputs": [],
   "source": [
    "combined.GarageYrBlt[combined.GarageYrBlt.isnull()] = combined.YearBuilt[combined.GarageYrBlt.isnull()]"
   ]
  },
  {
   "cell_type": "markdown",
   "metadata": {},
   "source": [
    "### **Basement Related Variables**\n",
    "\n",
    "There are 11 basement related variables; **BsmtQual, BsmtCond, BsmtExposure, BsmtFinType1, BsmtFinType2, BsmtFullBath, BsmtFullBath, BsmtFinSF1, BsmtFinSF2, BsmtUnfSF, TotalBsmtSF** <br><br>\n",
    "\n",
    "* Categorical Variables: **BsmtQual, BsmtCond, BsmtExposure, BsmtFinType1, BsmtFinType2** <br>\n",
    "* Numerical Variables: **BsmtFullBath, BsmtFullBath, BsmtFinSF1, BsmtFinSF2, BsmtUnfSF, TotalBsmtSF**\n",
    "\n",
    "\n",
    "> If a house does not have basement, categorical and numerical variables related to basement should also have null values and zeros respectively. "
   ]
  },
  {
   "cell_type": "code",
   "execution_count": 28,
   "metadata": {},
   "outputs": [
    {
     "name": "stdout",
     "output_type": "stream",
     "text": [
      "BsmtQual has 81 missing values | object\n",
      "BsmtCond has 82 missing values | object\n",
      "BsmtExposure has 82 missing values | object\n",
      "BsmtFinType1 has 79 missing values | object\n",
      "BsmtFinType2 has 80 missing values | object\n",
      "BsmtFullBath has 2 missing values | float64\n",
      "BsmtHalfBath has 2 missing values | float64\n",
      "BsmtFinSF1 has 1 missing values | float64\n",
      "BsmtFinSF2 has 1 missing values | float64\n",
      "BsmtUnfSF has 1 missing values | float64\n",
      "TotalBsmtSF has 1 missing values | float64\n"
     ]
    },
    {
     "data": {
      "text/plain": [
       "(None, None)"
      ]
     },
     "execution_count": 28,
     "metadata": {},
     "output_type": "execute_result"
    }
   ],
   "source": [
    "bsmtCat_Var = ['BsmtQual', 'BsmtCond', 'BsmtExposure', 'BsmtFinType1', 'BsmtFinType2']\n",
    "bsmtNum_Var = ['BsmtFullBath', 'BsmtHalfBath', 'BsmtFinSF1', 'BsmtFinSF2', 'BsmtUnfSF', 'TotalBsmtSF']\n",
    "\n",
    "countNA(bsmtCat_Var), countNA(bsmtNum_Var)"
   ]
  },
  {
   "cell_type": "markdown",
   "metadata": {},
   "source": [
    "Similar to garage related variables, there are different number of NAs in categorical variables which means some of the NAs does not indicate 'No Basement'. I will identify them first and impute those with the most frequent values in each variable. For `BsmtQual` and `BsmtCond`, I will assign certain scores referring to `OverallQual`ity of the house.<br>\n",
    "\n",
    "There are 79 NAs that indicate 'No Basement'. Rest of the NAs in categorical variables does not indicate 'No Basement'."
   ]
  },
  {
   "cell_type": "code",
   "execution_count": 29,
   "metadata": {},
   "outputs": [
    {
     "data": {
      "text/plain": [
       "79"
      ]
     },
     "execution_count": 29,
     "metadata": {},
     "output_type": "execute_result"
    }
   ],
   "source": [
    "len(combined[(combined.BsmtQual.isnull()) & (combined.BsmtCond.isnull()) & (combined.BsmtExposure.isnull()) & \n",
    "         (combined.BsmtFinType1.isnull()) & (combined.BsmtFinType2.isnull())])"
   ]
  },
  {
   "cell_type": "code",
   "execution_count": 30,
   "metadata": {
    "scrolled": true
   },
   "outputs": [
    {
     "data": {
      "text/html": [
       "<div>\n",
       "<style scoped>\n",
       "    .dataframe tbody tr th:only-of-type {\n",
       "        vertical-align: middle;\n",
       "    }\n",
       "\n",
       "    .dataframe tbody tr th {\n",
       "        vertical-align: top;\n",
       "    }\n",
       "\n",
       "    .dataframe thead th {\n",
       "        text-align: right;\n",
       "    }\n",
       "</style>\n",
       "<table border=\"1\" class=\"dataframe\">\n",
       "  <thead>\n",
       "    <tr style=\"text-align: right;\">\n",
       "      <th></th>\n",
       "      <th>BsmtQual</th>\n",
       "      <th>BsmtCond</th>\n",
       "      <th>BsmtExposure</th>\n",
       "      <th>BsmtFinType1</th>\n",
       "      <th>BsmtFinType2</th>\n",
       "    </tr>\n",
       "  </thead>\n",
       "  <tbody>\n",
       "    <tr>\n",
       "      <th>332</th>\n",
       "      <td>Gd</td>\n",
       "      <td>TA</td>\n",
       "      <td>No</td>\n",
       "      <td>GLQ</td>\n",
       "      <td>NaN</td>\n",
       "    </tr>\n",
       "    <tr>\n",
       "      <th>948</th>\n",
       "      <td>Gd</td>\n",
       "      <td>TA</td>\n",
       "      <td>NaN</td>\n",
       "      <td>Unf</td>\n",
       "      <td>Unf</td>\n",
       "    </tr>\n",
       "    <tr>\n",
       "      <th>1487</th>\n",
       "      <td>Gd</td>\n",
       "      <td>TA</td>\n",
       "      <td>NaN</td>\n",
       "      <td>Unf</td>\n",
       "      <td>Unf</td>\n",
       "    </tr>\n",
       "    <tr>\n",
       "      <th>2040</th>\n",
       "      <td>Gd</td>\n",
       "      <td>NaN</td>\n",
       "      <td>Mn</td>\n",
       "      <td>GLQ</td>\n",
       "      <td>Rec</td>\n",
       "    </tr>\n",
       "    <tr>\n",
       "      <th>2185</th>\n",
       "      <td>TA</td>\n",
       "      <td>NaN</td>\n",
       "      <td>No</td>\n",
       "      <td>BLQ</td>\n",
       "      <td>Unf</td>\n",
       "    </tr>\n",
       "    <tr>\n",
       "      <th>2217</th>\n",
       "      <td>NaN</td>\n",
       "      <td>Fa</td>\n",
       "      <td>No</td>\n",
       "      <td>Unf</td>\n",
       "      <td>Unf</td>\n",
       "    </tr>\n",
       "    <tr>\n",
       "      <th>2218</th>\n",
       "      <td>NaN</td>\n",
       "      <td>TA</td>\n",
       "      <td>No</td>\n",
       "      <td>Unf</td>\n",
       "      <td>Unf</td>\n",
       "    </tr>\n",
       "    <tr>\n",
       "      <th>2348</th>\n",
       "      <td>Gd</td>\n",
       "      <td>TA</td>\n",
       "      <td>NaN</td>\n",
       "      <td>Unf</td>\n",
       "      <td>Unf</td>\n",
       "    </tr>\n",
       "    <tr>\n",
       "      <th>2524</th>\n",
       "      <td>TA</td>\n",
       "      <td>NaN</td>\n",
       "      <td>Av</td>\n",
       "      <td>ALQ</td>\n",
       "      <td>Unf</td>\n",
       "    </tr>\n",
       "  </tbody>\n",
       "</table>\n",
       "</div>"
      ],
      "text/plain": [
       "     BsmtQual BsmtCond BsmtExposure BsmtFinType1 BsmtFinType2\n",
       "332        Gd       TA           No          GLQ          NaN\n",
       "948        Gd       TA          NaN          Unf          Unf\n",
       "1487       Gd       TA          NaN          Unf          Unf\n",
       "2040       Gd      NaN           Mn          GLQ          Rec\n",
       "2185       TA      NaN           No          BLQ          Unf\n",
       "2217      NaN       Fa           No          Unf          Unf\n",
       "2218      NaN       TA           No          Unf          Unf\n",
       "2348       Gd       TA          NaN          Unf          Unf\n",
       "2524       TA      NaN           Av          ALQ          Unf"
      ]
     },
     "execution_count": 30,
     "metadata": {},
     "output_type": "execute_result"
    }
   ],
   "source": [
    "combined[(combined.BsmtFinType1.notnull()) & ((combined.BsmtCond.isnull()) | (combined.BsmtExposure.isnull()) | \n",
    "         (combined.BsmtQual.isnull()) | (combined.BsmtFinType2.isnull()))].loc[:,bsmtCat_Var]"
   ]
  },
  {
   "cell_type": "code",
   "execution_count": 31,
   "metadata": {},
   "outputs": [
    {
     "data": {
      "text/html": [
       "<div>\n",
       "<style scoped>\n",
       "    .dataframe tbody tr th:only-of-type {\n",
       "        vertical-align: middle;\n",
       "    }\n",
       "\n",
       "    .dataframe tbody tr th {\n",
       "        vertical-align: top;\n",
       "    }\n",
       "\n",
       "    .dataframe thead th {\n",
       "        text-align: right;\n",
       "    }\n",
       "</style>\n",
       "<table border=\"1\" class=\"dataframe\">\n",
       "  <thead>\n",
       "    <tr style=\"text-align: right;\">\n",
       "      <th></th>\n",
       "      <th>BsmtQual</th>\n",
       "      <th>OverallQual</th>\n",
       "    </tr>\n",
       "  </thead>\n",
       "  <tbody>\n",
       "    <tr>\n",
       "      <th>2217</th>\n",
       "      <td>NaN</td>\n",
       "      <td>4</td>\n",
       "    </tr>\n",
       "    <tr>\n",
       "      <th>2218</th>\n",
       "      <td>NaN</td>\n",
       "      <td>4</td>\n",
       "    </tr>\n",
       "  </tbody>\n",
       "</table>\n",
       "</div>"
      ],
      "text/plain": [
       "     BsmtQual  OverallQual\n",
       "2217      NaN            4\n",
       "2218      NaN            4"
      ]
     },
     "execution_count": 31,
     "metadata": {},
     "output_type": "execute_result"
    }
   ],
   "source": [
    "combined.loc[2217:2218, ['BsmtQual','OverallQual']]"
   ]
  },
  {
   "cell_type": "code",
   "execution_count": 32,
   "metadata": {},
   "outputs": [],
   "source": [
    "combined.BsmtQual[2217:2218] = 'Fa'\n",
    "combined.BsmtCond[[2040,2185,2524]] = 'TA'\n",
    "combined.BsmtExposure[[948,1487,2348]] = combined.BsmtExposure.mode()[0]\n",
    "combined.BsmtFinType2[332] = combined.BsmtFinType2.mode()[0]"
   ]
  },
  {
   "cell_type": "code",
   "execution_count": 33,
   "metadata": {},
   "outputs": [
    {
     "name": "stdout",
     "output_type": "stream",
     "text": [
      "BsmtQual : ['Gd' 'TA' 'Ex' 'None' 'Fa']\n",
      "BsmtCond : ['TA' 'Gd' 'None' 'Fa' 'Po']\n",
      "BsmtExposure : ['No' 'Gd' 'Mn' 'Av' 'None']\n",
      "BsmtFinType1 : ['GLQ' 'ALQ' 'Unf' 'Rec' 'BLQ' 'None' 'LwQ']\n",
      "BsmtFinType2 : ['Unf' 'BLQ' 'None' 'ALQ' 'Rec' 'LwQ' 'GLQ']\n"
     ]
    }
   ],
   "source": [
    "for var in bsmtCat_Var:\n",
    "    combined[var].fillna('None', inplace = True)\n",
    "    print(var, ':',combined[var].unique())"
   ]
  },
  {
   "cell_type": "markdown",
   "metadata": {},
   "source": [
    "Numerical Variables"
   ]
  },
  {
   "cell_type": "code",
   "execution_count": 34,
   "metadata": {
    "scrolled": false
   },
   "outputs": [
    {
     "data": {
      "text/html": [
       "<div>\n",
       "<style scoped>\n",
       "    .dataframe tbody tr th:only-of-type {\n",
       "        vertical-align: middle;\n",
       "    }\n",
       "\n",
       "    .dataframe tbody tr th {\n",
       "        vertical-align: top;\n",
       "    }\n",
       "\n",
       "    .dataframe thead th {\n",
       "        text-align: right;\n",
       "    }\n",
       "</style>\n",
       "<table border=\"1\" class=\"dataframe\">\n",
       "  <thead>\n",
       "    <tr style=\"text-align: right;\">\n",
       "      <th></th>\n",
       "      <th>BsmtFullBath</th>\n",
       "      <th>BsmtHalfBath</th>\n",
       "      <th>BsmtFinSF1</th>\n",
       "      <th>BsmtFinSF2</th>\n",
       "      <th>BsmtUnfSF</th>\n",
       "      <th>TotalBsmtSF</th>\n",
       "      <th>BsmtQual</th>\n",
       "    </tr>\n",
       "  </thead>\n",
       "  <tbody>\n",
       "    <tr>\n",
       "      <th>2120</th>\n",
       "      <td>NaN</td>\n",
       "      <td>NaN</td>\n",
       "      <td>NaN</td>\n",
       "      <td>NaN</td>\n",
       "      <td>NaN</td>\n",
       "      <td>NaN</td>\n",
       "      <td>None</td>\n",
       "    </tr>\n",
       "    <tr>\n",
       "      <th>2188</th>\n",
       "      <td>NaN</td>\n",
       "      <td>NaN</td>\n",
       "      <td>0.0</td>\n",
       "      <td>0.0</td>\n",
       "      <td>0.0</td>\n",
       "      <td>0.0</td>\n",
       "      <td>None</td>\n",
       "    </tr>\n",
       "  </tbody>\n",
       "</table>\n",
       "</div>"
      ],
      "text/plain": [
       "      BsmtFullBath  BsmtHalfBath  BsmtFinSF1  BsmtFinSF2  BsmtUnfSF  \\\n",
       "2120           NaN           NaN         NaN         NaN        NaN   \n",
       "2188           NaN           NaN         0.0         0.0        0.0   \n",
       "\n",
       "      TotalBsmtSF BsmtQual  \n",
       "2120          NaN     None  \n",
       "2188          0.0     None  "
      ]
     },
     "execution_count": 34,
     "metadata": {},
     "output_type": "execute_result"
    }
   ],
   "source": [
    "for var in bsmtNum_Var:\n",
    "    combined[combined.BsmtQual == 0].loc[:,var].fillna(0, inplace = True)\n",
    "    \n",
    "combined[(combined.BsmtFullBath.isnull()) | (combined.BsmtHalfBath.isnull()) |\n",
    "         (combined.BsmtFinSF1.isnull()) | (combined.BsmtFinSF2.isnull()) |\n",
    "         (combined.BsmtUnfSF.isnull()) | (combined.TotalBsmtSF.isnull())].loc[:,['BsmtFullBath','BsmtHalfBath',\n",
    "                                                                                 'BsmtFinSF1', 'BsmtFinSF2',\n",
    "                                                                                 'BsmtUnfSF', 'TotalBsmtSF','BsmtQual']]"
   ]
  },
  {
   "cell_type": "code",
   "execution_count": 35,
   "metadata": {},
   "outputs": [
    {
     "name": "stdout",
     "output_type": "stream",
     "text": [
      "There is no more missing values\n",
      "There is no more missing values\n"
     ]
    },
    {
     "data": {
      "text/plain": [
       "(None, None)"
      ]
     },
     "execution_count": 35,
     "metadata": {},
     "output_type": "execute_result"
    }
   ],
   "source": [
    "for var in bsmtNum_Var:\n",
    "    combined.loc[[2120,2188], var] = 0\n",
    "    \n",
    "countNA(bsmtCat_Var), countNA(bsmtNum_Var)"
   ]
  },
  {
   "cell_type": "markdown",
   "metadata": {},
   "source": [
    "### Masonry Veneer Related Variables (  MasVnrType, MasVnrArea )\n",
    "\n",
    "* Categorical Variable : MasVnrType\n",
    "> **BrkCmn** : Brick Common <br>\n",
    "  **BrkFace** : Brick Face <br>\n",
    "  **CBlock** : Cinder Block <br>\n",
    "  **None** : None <br>\n",
    "  **Stone** : Stone\n",
    "\n",
    "* Continuous Variable : MasVnrArea\n",
    "\n",
    "There are 24 NAs in `MasVnrType` while there are 23 NAs in `MasVnrArea`. There is at least 1 NA that does not imply 'None'. I will identify that and impute with the most frequent value in `MasVnrType` that is not 'None'. Then, I will fill in with 'None' and zeros for the rest of 23 NAs in `MasVnrType` and `MasVnrArea`."
   ]
  },
  {
   "cell_type": "code",
   "execution_count": 36,
   "metadata": {},
   "outputs": [
    {
     "name": "stdout",
     "output_type": "stream",
     "text": [
      "MasVnrType has 24 missing values | object\n",
      "MasVnrArea has 23 missing values | float64\n"
     ]
    }
   ],
   "source": [
    "masVnr_var = ['MasVnrType', 'MasVnrArea']\n",
    "countNA(masVnr_var)"
   ]
  },
  {
   "cell_type": "code",
   "execution_count": 37,
   "metadata": {},
   "outputs": [
    {
     "data": {
      "text/html": [
       "<div>\n",
       "<style scoped>\n",
       "    .dataframe tbody tr th:only-of-type {\n",
       "        vertical-align: middle;\n",
       "    }\n",
       "\n",
       "    .dataframe tbody tr th {\n",
       "        vertical-align: top;\n",
       "    }\n",
       "\n",
       "    .dataframe thead th {\n",
       "        text-align: right;\n",
       "    }\n",
       "</style>\n",
       "<table border=\"1\" class=\"dataframe\">\n",
       "  <thead>\n",
       "    <tr style=\"text-align: right;\">\n",
       "      <th></th>\n",
       "      <th>MasVnrType</th>\n",
       "      <th>MasVnrArea</th>\n",
       "    </tr>\n",
       "  </thead>\n",
       "  <tbody>\n",
       "    <tr>\n",
       "      <th>2610</th>\n",
       "      <td>NaN</td>\n",
       "      <td>198.0</td>\n",
       "    </tr>\n",
       "  </tbody>\n",
       "</table>\n",
       "</div>"
      ],
      "text/plain": [
       "     MasVnrType  MasVnrArea\n",
       "2610        NaN       198.0"
      ]
     },
     "execution_count": 37,
     "metadata": {},
     "output_type": "execute_result"
    }
   ],
   "source": [
    "combined[(combined.MasVnrType.isnull()) & (combined.MasVnrArea.notnull())].loc[:,masVnr_var]"
   ]
  },
  {
   "cell_type": "code",
   "execution_count": 38,
   "metadata": {},
   "outputs": [],
   "source": [
    "combined.MasVnrType[2610] = combined.MasVnrType[combined.MasVnrType != 'None'].mode()[0]"
   ]
  },
  {
   "cell_type": "code",
   "execution_count": 39,
   "metadata": {
    "scrolled": true
   },
   "outputs": [
    {
     "name": "stdout",
     "output_type": "stream",
     "text": [
      "There is no more missing values\n"
     ]
    }
   ],
   "source": [
    "combined.MasVnrType.fillna('None', inplace = True)\n",
    "combined.MasVnrArea.fillna(0, inplace = True)\n",
    "countNA(masVnr_var)"
   ]
  },
  {
   "cell_type": "markdown",
   "metadata": {},
   "source": [
    "### MSZoning\n",
    "\n",
    "There are 4 NAs in `MSZoning`. I will impute those with the most frequent values in the variable. "
   ]
  },
  {
   "cell_type": "code",
   "execution_count": 40,
   "metadata": {},
   "outputs": [
    {
     "name": "stdout",
     "output_type": "stream",
     "text": [
      "MSZoning has 4 missing values | object\n"
     ]
    }
   ],
   "source": [
    "countNA(['MSZoning'])"
   ]
  },
  {
   "cell_type": "code",
   "execution_count": 41,
   "metadata": {},
   "outputs": [
    {
     "name": "stdout",
     "output_type": "stream",
     "text": [
      "There is no more missing values\n"
     ]
    }
   ],
   "source": [
    "combined.MSZoning.fillna(combined.MSZoning.mode()[0], inplace = True)\n",
    "countNA(['MSZoning'])"
   ]
  },
  {
   "cell_type": "markdown",
   "metadata": {},
   "source": [
    "### Kitchen Related Variables ( Kitchen, KitchenQual )  \n",
    "There is 1 NA in `KitchenQual`. I will impute it with the most frequent value in the variable."
   ]
  },
  {
   "cell_type": "code",
   "execution_count": 42,
   "metadata": {},
   "outputs": [
    {
     "name": "stdout",
     "output_type": "stream",
     "text": [
      "KitchenQual has 1 missing values | object\n"
     ]
    }
   ],
   "source": [
    "kitchenVar = ['KitchenAbvGr', 'KitchenQual']\n",
    "countNA(kitchenVar)"
   ]
  },
  {
   "cell_type": "code",
   "execution_count": 43,
   "metadata": {},
   "outputs": [
    {
     "name": "stdout",
     "output_type": "stream",
     "text": [
      "There is no more missing values\n"
     ]
    }
   ],
   "source": [
    "combined.KitchenQual.fillna(combined.KitchenQual.mode()[0], inplace = True)\n",
    "countNA(kitchenVar)"
   ]
  },
  {
   "cell_type": "markdown",
   "metadata": {},
   "source": [
    "### Utilities\n",
    "There are 2 NAs in `Utilities`. However, all the houses have access to all public utilities except one which means `Utilities` variable is not very useful for the analysis. Hence, I will rather drop the variable now. "
   ]
  },
  {
   "cell_type": "code",
   "execution_count": 44,
   "metadata": {},
   "outputs": [
    {
     "name": "stdout",
     "output_type": "stream",
     "text": [
      "Utilities has 2 missing values | object\n"
     ]
    }
   ],
   "source": [
    "countNA(['Utilities'])"
   ]
  },
  {
   "cell_type": "code",
   "execution_count": 45,
   "metadata": {},
   "outputs": [
    {
     "data": {
      "text/plain": [
       "AllPub    2916\n",
       "NoSeWa       1\n",
       "Name: Utilities, dtype: int64"
      ]
     },
     "execution_count": 45,
     "metadata": {},
     "output_type": "execute_result"
    }
   ],
   "source": [
    "combined.Utilities.value_counts()"
   ]
  },
  {
   "cell_type": "code",
   "execution_count": 46,
   "metadata": {},
   "outputs": [],
   "source": [
    "combined.drop('Utilities', axis = 1, inplace = True)"
   ]
  },
  {
   "cell_type": "markdown",
   "metadata": {},
   "source": [
    "### Functional\n",
    "There are 2 NAs in `Functional`. I will impute those with the most frequent values in the variable. "
   ]
  },
  {
   "cell_type": "code",
   "execution_count": 47,
   "metadata": {},
   "outputs": [
    {
     "name": "stdout",
     "output_type": "stream",
     "text": [
      "Functional has 2 missing values | object\n"
     ]
    }
   ],
   "source": [
    "countNA(['Functional'])"
   ]
  },
  {
   "cell_type": "code",
   "execution_count": 48,
   "metadata": {},
   "outputs": [],
   "source": [
    "combined.Functional.fillna(combined.Functional.mode()[0], inplace = True)"
   ]
  },
  {
   "cell_type": "code",
   "execution_count": 49,
   "metadata": {},
   "outputs": [
    {
     "data": {
      "text/plain": [
       "<matplotlib.axes._subplots.AxesSubplot at 0x1a0d22e6a0>"
      ]
     },
     "execution_count": 49,
     "metadata": {},
     "output_type": "execute_result"
    },
    {
     "data": {
      "image/png": "[encoded data removed]",
      "text/plain": [
       "<matplotlib.figure.Figure at 0x1a0d21e208>"
      ]
     },
     "metadata": {
      "image/png": {
       "height": 281,
       "width": 914
      }
     },
     "output_type": "display_data"
    }
   ],
   "source": [
    "plt.subplots(figsize=(15, 4))\n",
    "sns.barplot('Functional', y_train, data = combined, ci = False)"
   ]
  },
  {
   "cell_type": "markdown",
   "metadata": {},
   "source": [
    "### Exterior Related Variables ( Exterior1st, Exterior2nd, ExterQual, ExterCond )\n",
    "There are 4 Exterior related categorical variables. <br>\n",
    "There are one NA in each `Exterior1st` and `Exterior2nd`. I will impute those with the most frequent values in each variable."
   ]
  },
  {
   "cell_type": "code",
   "execution_count": 50,
   "metadata": {},
   "outputs": [
    {
     "name": "stdout",
     "output_type": "stream",
     "text": [
      "Exterior1st has 1 missing values | object\n",
      "Exterior2nd has 1 missing values | object\n"
     ]
    }
   ],
   "source": [
    "exterVar = ['Exterior1st', 'Exterior2nd', 'ExterQual', 'ExterCond']\n",
    "countNA(exterVar)"
   ]
  },
  {
   "cell_type": "code",
   "execution_count": 51,
   "metadata": {},
   "outputs": [
    {
     "name": "stdout",
     "output_type": "stream",
     "text": [
      "There is no more missing values\n"
     ]
    }
   ],
   "source": [
    "combined.Exterior1st.fillna(combined.Exterior1st.mode()[0], inplace = True)\n",
    "combined.Exterior2nd.fillna(combined.Exterior2nd.mode()[0], inplace = True)\n",
    "countNA(exterVar)"
   ]
  },
  {
   "cell_type": "markdown",
   "metadata": {},
   "source": [
    "### Electrical \n",
    "There is one NA in `Electrical`. I will impute it with the most frequent value in the variable."
   ]
  },
  {
   "cell_type": "code",
   "execution_count": 52,
   "metadata": {},
   "outputs": [
    {
     "name": "stdout",
     "output_type": "stream",
     "text": [
      "Electrical has 1 missing values | object\n"
     ]
    }
   ],
   "source": [
    "countNA(['Electrical'])"
   ]
  },
  {
   "cell_type": "code",
   "execution_count": 53,
   "metadata": {
    "scrolled": true
   },
   "outputs": [
    {
     "name": "stdout",
     "output_type": "stream",
     "text": [
      "There is no more missing values\n"
     ]
    }
   ],
   "source": [
    "combined.Electrical.fillna(combined.Electrical.mode()[0], inplace = True)\n",
    "countNA(['Electrical'])"
   ]
  },
  {
   "cell_type": "markdown",
   "metadata": {},
   "source": [
    "### Sale Related Variables ( SaleType, SaleCondition )\n",
    "There is one NA in `SaleType`. I will impute it with the most frequent value in the variable. "
   ]
  },
  {
   "cell_type": "code",
   "execution_count": 54,
   "metadata": {},
   "outputs": [
    {
     "name": "stdout",
     "output_type": "stream",
     "text": [
      "SaleType has 1 missing values | object\n"
     ]
    }
   ],
   "source": [
    "saleVar = ['SaleType', 'SaleCondition']\n",
    "countNA(saleVar)"
   ]
  },
  {
   "cell_type": "code",
   "execution_count": 55,
   "metadata": {},
   "outputs": [
    {
     "name": "stdout",
     "output_type": "stream",
     "text": [
      "There is no more missing values\n"
     ]
    }
   ],
   "source": [
    "combined.SaleType.fillna(combined.SaleType.mode()[0], inplace = True)\n",
    "countNA(saleVar)"
   ]
  },
  {
   "cell_type": "code",
   "execution_count": 56,
   "metadata": {},
   "outputs": [
    {
     "name": "stdout",
     "output_type": "stream",
     "text": [
      "There is no more missing values\n"
     ]
    }
   ],
   "source": [
    "countNA(combined.columns)"
   ]
  },
  {
   "cell_type": "code",
   "execution_count": 57,
   "metadata": {},
   "outputs": [],
   "source": [
    "train_set = combined[:ntrain]\n",
    "train_set = pd.concat([train_set, y_train], axis = 1)\n",
    "train_set = pd.concat([train_ID, train_set], axis = 1)\n",
    "        \n",
    "test_set = combined[ntrain:].reset_index(drop=True)\n",
    "test_set = pd.concat([test_ID, test_set], axis = 1)"
   ]
  },
  {
   "cell_type": "code",
   "execution_count": 58,
   "metadata": {
    "scrolled": false
   },
   "outputs": [
    {
     "data": {
      "text/html": [
       "<div>\n",
       "<style scoped>\n",
       "    .dataframe tbody tr th:only-of-type {\n",
       "        vertical-align: middle;\n",
       "    }\n",
       "\n",
       "    .dataframe tbody tr th {\n",
       "        vertical-align: top;\n",
       "    }\n",
       "\n",
       "    .dataframe thead th {\n",
       "        text-align: right;\n",
       "    }\n",
       "</style>\n",
       "<table border=\"1\" class=\"dataframe\">\n",
       "  <thead>\n",
       "    <tr style=\"text-align: right;\">\n",
       "      <th></th>\n",
       "      <th>Id</th>\n",
       "      <th>1stFlrSF</th>\n",
       "      <th>2ndFlrSF</th>\n",
       "      <th>3SsnPorch</th>\n",
       "      <th>Alley</th>\n",
       "      <th>BedroomAbvGr</th>\n",
       "      <th>BldgType</th>\n",
       "      <th>BsmtCond</th>\n",
       "      <th>BsmtExposure</th>\n",
       "      <th>BsmtFinSF1</th>\n",
       "      <th>...</th>\n",
       "      <th>SaleType</th>\n",
       "      <th>ScreenPorch</th>\n",
       "      <th>Street</th>\n",
       "      <th>TotRmsAbvGrd</th>\n",
       "      <th>TotalBsmtSF</th>\n",
       "      <th>WoodDeckSF</th>\n",
       "      <th>YearBuilt</th>\n",
       "      <th>YearRemodAdd</th>\n",
       "      <th>YrSold</th>\n",
       "      <th>SalePrice</th>\n",
       "    </tr>\n",
       "  </thead>\n",
       "  <tbody>\n",
       "    <tr>\n",
       "      <th>0</th>\n",
       "      <td>1</td>\n",
       "      <td>856</td>\n",
       "      <td>854</td>\n",
       "      <td>0</td>\n",
       "      <td>None</td>\n",
       "      <td>3</td>\n",
       "      <td>1Fam</td>\n",
       "      <td>TA</td>\n",
       "      <td>No</td>\n",
       "      <td>706.0</td>\n",
       "      <td>...</td>\n",
       "      <td>WD</td>\n",
       "      <td>0</td>\n",
       "      <td>Pave</td>\n",
       "      <td>8</td>\n",
       "      <td>856.0</td>\n",
       "      <td>0</td>\n",
       "      <td>2003</td>\n",
       "      <td>2003</td>\n",
       "      <td>2008</td>\n",
       "      <td>208500</td>\n",
       "    </tr>\n",
       "    <tr>\n",
       "      <th>1</th>\n",
       "      <td>2</td>\n",
       "      <td>1262</td>\n",
       "      <td>0</td>\n",
       "      <td>0</td>\n",
       "      <td>None</td>\n",
       "      <td>3</td>\n",
       "      <td>1Fam</td>\n",
       "      <td>TA</td>\n",
       "      <td>Gd</td>\n",
       "      <td>978.0</td>\n",
       "      <td>...</td>\n",
       "      <td>WD</td>\n",
       "      <td>0</td>\n",
       "      <td>Pave</td>\n",
       "      <td>6</td>\n",
       "      <td>1262.0</td>\n",
       "      <td>298</td>\n",
       "      <td>1976</td>\n",
       "      <td>1976</td>\n",
       "      <td>2007</td>\n",
       "      <td>181500</td>\n",
       "    </tr>\n",
       "  </tbody>\n",
       "</table>\n",
       "<p>2 rows × 80 columns</p>\n",
       "</div>"
      ],
      "text/plain": [
       "   Id  1stFlrSF  2ndFlrSF  3SsnPorch Alley  BedroomAbvGr BldgType BsmtCond  \\\n",
       "0   1       856       854          0  None             3     1Fam       TA   \n",
       "1   2      1262         0          0  None             3     1Fam       TA   \n",
       "\n",
       "  BsmtExposure  BsmtFinSF1    ...     SaleType ScreenPorch Street  \\\n",
       "0           No       706.0    ...           WD           0   Pave   \n",
       "1           Gd       978.0    ...           WD           0   Pave   \n",
       "\n",
       "   TotRmsAbvGrd  TotalBsmtSF WoodDeckSF  YearBuilt YearRemodAdd YrSold  \\\n",
       "0             8        856.0          0       2003         2003   2008   \n",
       "1             6       1262.0        298       1976         1976   2007   \n",
       "\n",
       "  SalePrice  \n",
       "0    208500  \n",
       "1    181500  \n",
       "\n",
       "[2 rows x 80 columns]"
      ]
     },
     "execution_count": 58,
     "metadata": {},
     "output_type": "execute_result"
    }
   ],
   "source": [
    "train_set.head(2)"
   ]
  },
  {
   "cell_type": "code",
   "execution_count": 59,
   "metadata": {},
   "outputs": [
    {
     "data": {
      "text/html": [
       "<div>\n",
       "<style scoped>\n",
       "    .dataframe tbody tr th:only-of-type {\n",
       "        vertical-align: middle;\n",
       "    }\n",
       "\n",
       "    .dataframe tbody tr th {\n",
       "        vertical-align: top;\n",
       "    }\n",
       "\n",
       "    .dataframe thead th {\n",
       "        text-align: right;\n",
       "    }\n",
       "</style>\n",
       "<table border=\"1\" class=\"dataframe\">\n",
       "  <thead>\n",
       "    <tr style=\"text-align: right;\">\n",
       "      <th></th>\n",
       "      <th>Id</th>\n",
       "      <th>1stFlrSF</th>\n",
       "      <th>2ndFlrSF</th>\n",
       "      <th>3SsnPorch</th>\n",
       "      <th>Alley</th>\n",
       "      <th>BedroomAbvGr</th>\n",
       "      <th>BldgType</th>\n",
       "      <th>BsmtCond</th>\n",
       "      <th>BsmtExposure</th>\n",
       "      <th>BsmtFinSF1</th>\n",
       "      <th>...</th>\n",
       "      <th>SaleCondition</th>\n",
       "      <th>SaleType</th>\n",
       "      <th>ScreenPorch</th>\n",
       "      <th>Street</th>\n",
       "      <th>TotRmsAbvGrd</th>\n",
       "      <th>TotalBsmtSF</th>\n",
       "      <th>WoodDeckSF</th>\n",
       "      <th>YearBuilt</th>\n",
       "      <th>YearRemodAdd</th>\n",
       "      <th>YrSold</th>\n",
       "    </tr>\n",
       "  </thead>\n",
       "  <tbody>\n",
       "    <tr>\n",
       "      <th>0</th>\n",
       "      <td>1461</td>\n",
       "      <td>896</td>\n",
       "      <td>0</td>\n",
       "      <td>0</td>\n",
       "      <td>None</td>\n",
       "      <td>2</td>\n",
       "      <td>1Fam</td>\n",
       "      <td>TA</td>\n",
       "      <td>No</td>\n",
       "      <td>468.0</td>\n",
       "      <td>...</td>\n",
       "      <td>Normal</td>\n",
       "      <td>WD</td>\n",
       "      <td>120</td>\n",
       "      <td>Pave</td>\n",
       "      <td>5</td>\n",
       "      <td>882.0</td>\n",
       "      <td>140</td>\n",
       "      <td>1961</td>\n",
       "      <td>1961</td>\n",
       "      <td>2010</td>\n",
       "    </tr>\n",
       "    <tr>\n",
       "      <th>1</th>\n",
       "      <td>1462</td>\n",
       "      <td>1329</td>\n",
       "      <td>0</td>\n",
       "      <td>0</td>\n",
       "      <td>None</td>\n",
       "      <td>3</td>\n",
       "      <td>1Fam</td>\n",
       "      <td>TA</td>\n",
       "      <td>No</td>\n",
       "      <td>923.0</td>\n",
       "      <td>...</td>\n",
       "      <td>Normal</td>\n",
       "      <td>WD</td>\n",
       "      <td>0</td>\n",
       "      <td>Pave</td>\n",
       "      <td>6</td>\n",
       "      <td>1329.0</td>\n",
       "      <td>393</td>\n",
       "      <td>1958</td>\n",
       "      <td>1958</td>\n",
       "      <td>2010</td>\n",
       "    </tr>\n",
       "  </tbody>\n",
       "</table>\n",
       "<p>2 rows × 79 columns</p>\n",
       "</div>"
      ],
      "text/plain": [
       "     Id  1stFlrSF  2ndFlrSF  3SsnPorch Alley  BedroomAbvGr BldgType BsmtCond  \\\n",
       "0  1461       896         0          0  None             2     1Fam       TA   \n",
       "1  1462      1329         0          0  None             3     1Fam       TA   \n",
       "\n",
       "  BsmtExposure  BsmtFinSF1  ...    SaleCondition SaleType ScreenPorch  Street  \\\n",
       "0           No       468.0  ...           Normal       WD         120    Pave   \n",
       "1           No       923.0  ...           Normal       WD           0    Pave   \n",
       "\n",
       "   TotRmsAbvGrd TotalBsmtSF  WoodDeckSF YearBuilt YearRemodAdd YrSold  \n",
       "0             5       882.0         140      1961         1961   2010  \n",
       "1             6      1329.0         393      1958         1958   2010  \n",
       "\n",
       "[2 rows x 79 columns]"
      ]
     },
     "execution_count": 59,
     "metadata": {},
     "output_type": "execute_result"
    }
   ],
   "source": [
    "test_set.head(2)"
   ]
  },
  {
   "cell_type": "code",
   "execution_count": 60,
   "metadata": {},
   "outputs": [],
   "source": [
    "train_set.to_csv('train(cleaned).csv', index = False)\n",
    "test_set.to_csv('test(cleaned).csv', index = False)"
   ]
  }
 ],
 "metadata": {
  "kernelspec": {
   "display_name": "Python 3",
   "language": "python",
   "name": "python3"
  },
  "language_info": {
   "codemirror_mode": {
    "name": "ipython",
    "version": 3
   },
   "file_extension": ".py",
   "mimetype": "text/x-python",
   "name": "python",
   "nbconvert_exporter": "python",
   "pygments_lexer": "ipython3",
   "version": "3.5.2"
  }
 },
 "nbformat": 4,
 "nbformat_minor": 2
}
